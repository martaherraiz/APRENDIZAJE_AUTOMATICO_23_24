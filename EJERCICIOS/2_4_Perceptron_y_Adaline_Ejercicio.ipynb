{
  "cells": [
    {
      "cell_type": "markdown",
      "metadata": {
        "id": "uE4i74pKt7zy"
      },
      "source": [
        "# Entrenando Algoritmos de Machine Learning para Clasificación"
      ]
    },
    {
      "cell_type": "markdown",
      "metadata": {
        "id": "_tCTtmdKt7z0"
      },
      "source": [
        "# Implementando un algoritmo de aprendizaje tipo Perceptrón en Python: Una API de Perceptrón orientada a Objetos"
      ]
    },
    {
      "cell_type": "code",
      "execution_count": 41,
      "metadata": {
        "tags": [],
        "id": "X6FlP-X6t7z0"
      },
      "outputs": [],
      "source": [
        "import numpy as np\n",
        "\n",
        "\n",
        "class Perceptron(object):\n",
        "    \"\"\"Clasificador basado en perceptron.\n",
        "\n",
        "     Parámetros\n",
        "     ------------\n",
        "     eta: float\n",
        "       Tasa de aprendizaje (entre 0,0 y 1,0)\n",
        "     n_iter: int\n",
        "       Pasos sobre el conjunto de datos de entrenamiento.\n",
        "     random_state: int\n",
        "       Semilla del generador de números aleatorios para\n",
        "       inicialización de los pesos de forma aleatoria.\n",
        "\n",
        "     Atributos\n",
        "     -----------\n",
        "     w_: matriz-1d (1d-array)\n",
        "       Pesos después del fitting.\n",
        "     errors_: list\n",
        "       Número de clasificaciones erróneas (actualizaciones) en cada época.\n",
        "\n",
        "     \"\"\"\n",
        "    def __init__(self, eta=0.01, n_iter=50, random_state=1):\n",
        "        self.eta = eta\n",
        "        self.n_iter = n_iter\n",
        "        self.random_state = random_state\n",
        "\n",
        "    def fit(self, X, y):\n",
        "        \"\"\"Ajustar pesos con los datos de entrenamiento.\n",
        "\n",
        "         Parámetros\n",
        "         ----------\n",
        "         X: {tipo-array}, shape = [n_samples, n_features]\n",
        "           Vectores de entrenamiento, donde n_samples es el número de muestras y\n",
        "           n_features es el número de características.\n",
        "         y: tipo-array, shape = [n_samples]\n",
        "           Valores objetivo.\n",
        "\n",
        "         Retorno\n",
        "         -------\n",
        "         self: objet\n",
        "\n",
        "         \"\"\"\n",
        "        rgen = np.random.RandomState(self.random_state)\n",
        "        self.w_ = rgen.normal(loc=0.0, scale=0.01, size=1 + X.shape[1])\n",
        "        self.errors_ = []\n",
        "\n",
        "        for _ in range(self.n_iter):\n",
        "            errors = 0\n",
        "            for xi, target in zip(X, y):\n",
        "                update = xi * (target -  self.predict(xi))       ### EJERCICIO 1: CALCULAR LA ACTUALIZACION DE PESOS <<<<<--------------------\n",
        "                self.w_[1:] += update * xi\n",
        "                self.w_[0] += update\n",
        "                errors += int(update != 0.0)\n",
        "            self.errors_.append(errors)\n",
        "        return self\n",
        "        print(self)\n",
        "\n",
        "    def net_input(self, X):\n",
        "        \"\"\"Calcular la entrada neta\"\"\"\n",
        "        return np.dot(X, self.w_[1:]) + self.w_[0]\n",
        "\n",
        "    def predict(self, X):\n",
        "        \"\"\"Devolver etiqueta de clase después del paso unitario\"\"\"\n",
        "        return np.where(self.net_input(X) >= 0.0, 1, -1)\n"
      ]
    },
    {
      "cell_type": "code",
      "execution_count": 42,
      "metadata": {
        "colab": {
          "base_uri": "https://localhost:8080/"
        },
        "id": "B7LUbgAwt7z1",
        "outputId": "1d9e80fc-2162-4625-c1ea-8c6ab98b4d26"
      },
      "outputs": [
        {
          "output_type": "execute_result",
          "data": {
            "text/plain": [
              "0.0"
            ]
          },
          "metadata": {},
          "execution_count": 42
        }
      ],
      "source": [
        "v1 = np.array([1, 2, 3])\n",
        "v2 = 0.5 * v1\n",
        "np.arccos(v1.dot(v2) / (np.linalg.norm(v1) * np.linalg.norm(v2)))"
      ]
    },
    {
      "cell_type": "markdown",
      "metadata": {
        "id": "R9zPhHtqt7z2"
      },
      "source": [
        "## Entrenando un modelo de Perceptrón en el conjunto de datos Iris"
      ]
    },
    {
      "cell_type": "markdown",
      "metadata": {
        "id": "I_aer5YGt7z2"
      },
      "source": [
        "### Leyendo el dataset Iris"
      ]
    },
    {
      "cell_type": "code",
      "execution_count": 43,
      "metadata": {
        "colab": {
          "base_uri": "https://localhost:8080/",
          "height": 206
        },
        "id": "yzBsyZrGt7z2",
        "outputId": "44ed280b-c67c-4547-a730-9552a0a767f9"
      },
      "outputs": [
        {
          "output_type": "execute_result",
          "data": {
            "text/plain": [
              "       0    1    2    3               4\n",
              "145  6.7  3.0  5.2  2.3  Iris-virginica\n",
              "146  6.3  2.5  5.0  1.9  Iris-virginica\n",
              "147  6.5  3.0  5.2  2.0  Iris-virginica\n",
              "148  6.2  3.4  5.4  2.3  Iris-virginica\n",
              "149  5.9  3.0  5.1  1.8  Iris-virginica"
            ],
            "text/html": [
              "\n",
              "  <div id=\"df-3d700860-7640-475f-9cd8-e2b96dc2fe45\" class=\"colab-df-container\">\n",
              "    <div>\n",
              "<style scoped>\n",
              "    .dataframe tbody tr th:only-of-type {\n",
              "        vertical-align: middle;\n",
              "    }\n",
              "\n",
              "    .dataframe tbody tr th {\n",
              "        vertical-align: top;\n",
              "    }\n",
              "\n",
              "    .dataframe thead th {\n",
              "        text-align: right;\n",
              "    }\n",
              "</style>\n",
              "<table border=\"1\" class=\"dataframe\">\n",
              "  <thead>\n",
              "    <tr style=\"text-align: right;\">\n",
              "      <th></th>\n",
              "      <th>0</th>\n",
              "      <th>1</th>\n",
              "      <th>2</th>\n",
              "      <th>3</th>\n",
              "      <th>4</th>\n",
              "    </tr>\n",
              "  </thead>\n",
              "  <tbody>\n",
              "    <tr>\n",
              "      <th>145</th>\n",
              "      <td>6.7</td>\n",
              "      <td>3.0</td>\n",
              "      <td>5.2</td>\n",
              "      <td>2.3</td>\n",
              "      <td>Iris-virginica</td>\n",
              "    </tr>\n",
              "    <tr>\n",
              "      <th>146</th>\n",
              "      <td>6.3</td>\n",
              "      <td>2.5</td>\n",
              "      <td>5.0</td>\n",
              "      <td>1.9</td>\n",
              "      <td>Iris-virginica</td>\n",
              "    </tr>\n",
              "    <tr>\n",
              "      <th>147</th>\n",
              "      <td>6.5</td>\n",
              "      <td>3.0</td>\n",
              "      <td>5.2</td>\n",
              "      <td>2.0</td>\n",
              "      <td>Iris-virginica</td>\n",
              "    </tr>\n",
              "    <tr>\n",
              "      <th>148</th>\n",
              "      <td>6.2</td>\n",
              "      <td>3.4</td>\n",
              "      <td>5.4</td>\n",
              "      <td>2.3</td>\n",
              "      <td>Iris-virginica</td>\n",
              "    </tr>\n",
              "    <tr>\n",
              "      <th>149</th>\n",
              "      <td>5.9</td>\n",
              "      <td>3.0</td>\n",
              "      <td>5.1</td>\n",
              "      <td>1.8</td>\n",
              "      <td>Iris-virginica</td>\n",
              "    </tr>\n",
              "  </tbody>\n",
              "</table>\n",
              "</div>\n",
              "    <div class=\"colab-df-buttons\">\n",
              "\n",
              "  <div class=\"colab-df-container\">\n",
              "    <button class=\"colab-df-convert\" onclick=\"convertToInteractive('df-3d700860-7640-475f-9cd8-e2b96dc2fe45')\"\n",
              "            title=\"Convert this dataframe to an interactive table.\"\n",
              "            style=\"display:none;\">\n",
              "\n",
              "  <svg xmlns=\"http://www.w3.org/2000/svg\" height=\"24px\" viewBox=\"0 -960 960 960\">\n",
              "    <path d=\"M120-120v-720h720v720H120Zm60-500h600v-160H180v160Zm220 220h160v-160H400v160Zm0 220h160v-160H400v160ZM180-400h160v-160H180v160Zm440 0h160v-160H620v160ZM180-180h160v-160H180v160Zm440 0h160v-160H620v160Z\"/>\n",
              "  </svg>\n",
              "    </button>\n",
              "\n",
              "  <style>\n",
              "    .colab-df-container {\n",
              "      display:flex;\n",
              "      gap: 12px;\n",
              "    }\n",
              "\n",
              "    .colab-df-convert {\n",
              "      background-color: #E8F0FE;\n",
              "      border: none;\n",
              "      border-radius: 50%;\n",
              "      cursor: pointer;\n",
              "      display: none;\n",
              "      fill: #1967D2;\n",
              "      height: 32px;\n",
              "      padding: 0 0 0 0;\n",
              "      width: 32px;\n",
              "    }\n",
              "\n",
              "    .colab-df-convert:hover {\n",
              "      background-color: #E2EBFA;\n",
              "      box-shadow: 0px 1px 2px rgba(60, 64, 67, 0.3), 0px 1px 3px 1px rgba(60, 64, 67, 0.15);\n",
              "      fill: #174EA6;\n",
              "    }\n",
              "\n",
              "    .colab-df-buttons div {\n",
              "      margin-bottom: 4px;\n",
              "    }\n",
              "\n",
              "    [theme=dark] .colab-df-convert {\n",
              "      background-color: #3B4455;\n",
              "      fill: #D2E3FC;\n",
              "    }\n",
              "\n",
              "    [theme=dark] .colab-df-convert:hover {\n",
              "      background-color: #434B5C;\n",
              "      box-shadow: 0px 1px 3px 1px rgba(0, 0, 0, 0.15);\n",
              "      filter: drop-shadow(0px 1px 2px rgba(0, 0, 0, 0.3));\n",
              "      fill: #FFFFFF;\n",
              "    }\n",
              "  </style>\n",
              "\n",
              "    <script>\n",
              "      const buttonEl =\n",
              "        document.querySelector('#df-3d700860-7640-475f-9cd8-e2b96dc2fe45 button.colab-df-convert');\n",
              "      buttonEl.style.display =\n",
              "        google.colab.kernel.accessAllowed ? 'block' : 'none';\n",
              "\n",
              "      async function convertToInteractive(key) {\n",
              "        const element = document.querySelector('#df-3d700860-7640-475f-9cd8-e2b96dc2fe45');\n",
              "        const dataTable =\n",
              "          await google.colab.kernel.invokeFunction('convertToInteractive',\n",
              "                                                    [key], {});\n",
              "        if (!dataTable) return;\n",
              "\n",
              "        const docLinkHtml = 'Like what you see? Visit the ' +\n",
              "          '<a target=\"_blank\" href=https://colab.research.google.com/notebooks/data_table.ipynb>data table notebook</a>'\n",
              "          + ' to learn more about interactive tables.';\n",
              "        element.innerHTML = '';\n",
              "        dataTable['output_type'] = 'display_data';\n",
              "        await google.colab.output.renderOutput(dataTable, element);\n",
              "        const docLink = document.createElement('div');\n",
              "        docLink.innerHTML = docLinkHtml;\n",
              "        element.appendChild(docLink);\n",
              "      }\n",
              "    </script>\n",
              "  </div>\n",
              "\n",
              "\n",
              "<div id=\"df-2a56b6f7-ba49-4647-8841-ca1e2652157a\">\n",
              "  <button class=\"colab-df-quickchart\" onclick=\"quickchart('df-2a56b6f7-ba49-4647-8841-ca1e2652157a')\"\n",
              "            title=\"Suggest charts.\"\n",
              "            style=\"display:none;\">\n",
              "\n",
              "<svg xmlns=\"http://www.w3.org/2000/svg\" height=\"24px\"viewBox=\"0 0 24 24\"\n",
              "     width=\"24px\">\n",
              "    <g>\n",
              "        <path d=\"M19 3H5c-1.1 0-2 .9-2 2v14c0 1.1.9 2 2 2h14c1.1 0 2-.9 2-2V5c0-1.1-.9-2-2-2zM9 17H7v-7h2v7zm4 0h-2V7h2v10zm4 0h-2v-4h2v4z\"/>\n",
              "    </g>\n",
              "</svg>\n",
              "  </button>\n",
              "\n",
              "<style>\n",
              "  .colab-df-quickchart {\n",
              "      --bg-color: #E8F0FE;\n",
              "      --fill-color: #1967D2;\n",
              "      --hover-bg-color: #E2EBFA;\n",
              "      --hover-fill-color: #174EA6;\n",
              "      --disabled-fill-color: #AAA;\n",
              "      --disabled-bg-color: #DDD;\n",
              "  }\n",
              "\n",
              "  [theme=dark] .colab-df-quickchart {\n",
              "      --bg-color: #3B4455;\n",
              "      --fill-color: #D2E3FC;\n",
              "      --hover-bg-color: #434B5C;\n",
              "      --hover-fill-color: #FFFFFF;\n",
              "      --disabled-bg-color: #3B4455;\n",
              "      --disabled-fill-color: #666;\n",
              "  }\n",
              "\n",
              "  .colab-df-quickchart {\n",
              "    background-color: var(--bg-color);\n",
              "    border: none;\n",
              "    border-radius: 50%;\n",
              "    cursor: pointer;\n",
              "    display: none;\n",
              "    fill: var(--fill-color);\n",
              "    height: 32px;\n",
              "    padding: 0;\n",
              "    width: 32px;\n",
              "  }\n",
              "\n",
              "  .colab-df-quickchart:hover {\n",
              "    background-color: var(--hover-bg-color);\n",
              "    box-shadow: 0 1px 2px rgba(60, 64, 67, 0.3), 0 1px 3px 1px rgba(60, 64, 67, 0.15);\n",
              "    fill: var(--button-hover-fill-color);\n",
              "  }\n",
              "\n",
              "  .colab-df-quickchart-complete:disabled,\n",
              "  .colab-df-quickchart-complete:disabled:hover {\n",
              "    background-color: var(--disabled-bg-color);\n",
              "    fill: var(--disabled-fill-color);\n",
              "    box-shadow: none;\n",
              "  }\n",
              "\n",
              "  .colab-df-spinner {\n",
              "    border: 2px solid var(--fill-color);\n",
              "    border-color: transparent;\n",
              "    border-bottom-color: var(--fill-color);\n",
              "    animation:\n",
              "      spin 1s steps(1) infinite;\n",
              "  }\n",
              "\n",
              "  @keyframes spin {\n",
              "    0% {\n",
              "      border-color: transparent;\n",
              "      border-bottom-color: var(--fill-color);\n",
              "      border-left-color: var(--fill-color);\n",
              "    }\n",
              "    20% {\n",
              "      border-color: transparent;\n",
              "      border-left-color: var(--fill-color);\n",
              "      border-top-color: var(--fill-color);\n",
              "    }\n",
              "    30% {\n",
              "      border-color: transparent;\n",
              "      border-left-color: var(--fill-color);\n",
              "      border-top-color: var(--fill-color);\n",
              "      border-right-color: var(--fill-color);\n",
              "    }\n",
              "    40% {\n",
              "      border-color: transparent;\n",
              "      border-right-color: var(--fill-color);\n",
              "      border-top-color: var(--fill-color);\n",
              "    }\n",
              "    60% {\n",
              "      border-color: transparent;\n",
              "      border-right-color: var(--fill-color);\n",
              "    }\n",
              "    80% {\n",
              "      border-color: transparent;\n",
              "      border-right-color: var(--fill-color);\n",
              "      border-bottom-color: var(--fill-color);\n",
              "    }\n",
              "    90% {\n",
              "      border-color: transparent;\n",
              "      border-bottom-color: var(--fill-color);\n",
              "    }\n",
              "  }\n",
              "</style>\n",
              "\n",
              "  <script>\n",
              "    async function quickchart(key) {\n",
              "      const quickchartButtonEl =\n",
              "        document.querySelector('#' + key + ' button');\n",
              "      quickchartButtonEl.disabled = true;  // To prevent multiple clicks.\n",
              "      quickchartButtonEl.classList.add('colab-df-spinner');\n",
              "      try {\n",
              "        const charts = await google.colab.kernel.invokeFunction(\n",
              "            'suggestCharts', [key], {});\n",
              "      } catch (error) {\n",
              "        console.error('Error during call to suggestCharts:', error);\n",
              "      }\n",
              "      quickchartButtonEl.classList.remove('colab-df-spinner');\n",
              "      quickchartButtonEl.classList.add('colab-df-quickchart-complete');\n",
              "    }\n",
              "    (() => {\n",
              "      let quickchartButtonEl =\n",
              "        document.querySelector('#df-2a56b6f7-ba49-4647-8841-ca1e2652157a button');\n",
              "      quickchartButtonEl.style.display =\n",
              "        google.colab.kernel.accessAllowed ? 'block' : 'none';\n",
              "    })();\n",
              "  </script>\n",
              "</div>\n",
              "    </div>\n",
              "  </div>\n"
            ]
          },
          "metadata": {},
          "execution_count": 43
        }
      ],
      "source": [
        "import pandas as pd\n",
        "\n",
        "df = pd.read_csv('https://archive.ics.uci.edu/ml/'\n",
        "        'machine-learning-databases/iris/iris.data', header=None)\n",
        "df.tail()"
      ]
    },
    {
      "cell_type": "markdown",
      "metadata": {
        "id": "Oz8gTJCdt7z2"
      },
      "source": [
        "<hr>\n",
        "\n",
        "### Nota:\n",
        "Si tenéis el fichero ya descargado en un directorio local, por ejemplo en \"your/local/path/to/iris.data\" podéis sustituir la anterior línea de código...\n",
        "\n",
        "    df = pd.read_csv('https://archive.ics.uci.edu/ml/'\n",
        "        'machine-learning-databases/iris/iris.data', header=None)\n",
        "\n",
        "por...\n",
        "\n",
        "    df = pd.read_csv('your/local/path/to/iris.data', header=None)\n"
      ]
    },
    {
      "cell_type": "markdown",
      "metadata": {
        "id": "wUoIt_CFt7z2"
      },
      "source": [
        "<hr>"
      ]
    },
    {
      "cell_type": "markdown",
      "metadata": {
        "id": "GuqSebkut7z2"
      },
      "source": [
        "### Pintando los datos de Iris"
      ]
    },
    {
      "cell_type": "code",
      "execution_count": 44,
      "metadata": {
        "colab": {
          "base_uri": "https://localhost:8080/",
          "height": 450
        },
        "id": "PrmtWC-st7z2",
        "outputId": "dd729f70-5ae4-4342-9efc-7ee4038746be"
      },
      "outputs": [
        {
          "output_type": "display_data",
          "data": {
            "text/plain": [
              "<Figure size 640x480 with 1 Axes>"
            ],
            "image/png": "[encoded data removed]"
          },
          "metadata": {}
        }
      ],
      "source": [
        "%matplotlib inline\n",
        "import matplotlib.pyplot as plt\n",
        "import numpy as np\n",
        "\n",
        "# selecciona setosa y versicolor\n",
        "y = df.iloc[0:100, 4].values\n",
        "y = np.where(y == 'Iris-setosa', -1, 1)\n",
        "\n",
        "# extrae longitud del sépalo y del pétalo\n",
        "X = df.iloc[0:100, [0, 2]].values\n",
        "\n",
        "# pintando los datos\n",
        "plt.scatter(X[:50, 0], X[:50, 1],\n",
        "            color='red', marker='o', label='setosa')\n",
        "plt.scatter(X[50:100, 0], X[50:100, 1],\n",
        "            color='blue', marker='x', label='versicolor')\n",
        "\n",
        "plt.xlabel('logitud del sépalo [cm]')\n",
        "plt.ylabel('longitud del pétalo [cm]')\n",
        "plt.legend(loc='upper left')\n",
        "\n",
        "# plt.savefig('images/02_06.png', dpi=300)\n",
        "plt.show()"
      ]
    },
    {
      "cell_type": "markdown",
      "metadata": {
        "id": "KOFf5VI1t7z3"
      },
      "source": [
        "### Entrenando el modelo Perceptrón"
      ]
    },
    {
      "cell_type": "code",
      "execution_count": 45,
      "metadata": {
        "colab": {
          "base_uri": "https://localhost:8080/",
          "height": 464
        },
        "id": "_ZZPZrt-t7z3",
        "outputId": "6a20398a-8508-4227-bd4d-6aa9bead996f"
      },
      "outputs": [
        {
          "output_type": "error",
          "ename": "ValueError",
          "evalue": "ignored",
          "traceback": [
            "\u001b[0;31m---------------------------------------------------------------------------\u001b[0m",
            "\u001b[0;31mTypeError\u001b[0m                                 Traceback (most recent call last)",
            "\u001b[0;31mTypeError\u001b[0m: only size-1 arrays can be converted to Python scalars",
            "\nThe above exception was the direct cause of the following exception:\n",
            "\u001b[0;31mValueError\u001b[0m                                Traceback (most recent call last)",
            "\u001b[0;32m<ipython-input-45-ae8d0096cafd>\u001b[0m in \u001b[0;36m<cell line: 5>\u001b[0;34m()\u001b[0m\n\u001b[1;32m      3\u001b[0m \u001b[0;34m\u001b[0m\u001b[0m\n\u001b[1;32m      4\u001b[0m \u001b[0;34m\u001b[0m\u001b[0m\n\u001b[0;32m----> 5\u001b[0;31m \u001b[0mppn\u001b[0m\u001b[0;34m.\u001b[0m\u001b[0mfit\u001b[0m\u001b[0;34m(\u001b[0m\u001b[0mX\u001b[0m\u001b[0;34m,\u001b[0m \u001b[0my\u001b[0m\u001b[0;34m)\u001b[0m\u001b[0;34m\u001b[0m\u001b[0;34m\u001b[0m\u001b[0m\n\u001b[0m\u001b[1;32m      6\u001b[0m \u001b[0;34m\u001b[0m\u001b[0m\n\u001b[1;32m      7\u001b[0m \u001b[0mplt\u001b[0m\u001b[0;34m.\u001b[0m\u001b[0mplot\u001b[0m\u001b[0;34m(\u001b[0m\u001b[0mrange\u001b[0m\u001b[0;34m(\u001b[0m\u001b[0;36m1\u001b[0m\u001b[0;34m,\u001b[0m \u001b[0mlen\u001b[0m\u001b[0;34m(\u001b[0m\u001b[0mppn\u001b[0m\u001b[0;34m.\u001b[0m\u001b[0merrors_\u001b[0m\u001b[0;34m)\u001b[0m \u001b[0;34m+\u001b[0m \u001b[0;36m1\u001b[0m\u001b[0;34m)\u001b[0m\u001b[0;34m,\u001b[0m \u001b[0mppn\u001b[0m\u001b[0;34m.\u001b[0m\u001b[0merrors_\u001b[0m\u001b[0;34m,\u001b[0m \u001b[0mmarker\u001b[0m\u001b[0;34m=\u001b[0m\u001b[0;34m'o'\u001b[0m\u001b[0;34m)\u001b[0m\u001b[0;34m\u001b[0m\u001b[0;34m\u001b[0m\u001b[0m\n",
            "\u001b[0;32m<ipython-input-41-462a9d779051>\u001b[0m in \u001b[0;36mfit\u001b[0;34m(self, X, y)\u001b[0m\n\u001b[1;32m     53\u001b[0m                 \u001b[0mupdate\u001b[0m \u001b[0;34m=\u001b[0m \u001b[0mxi\u001b[0m \u001b[0;34m*\u001b[0m \u001b[0;34m(\u001b[0m\u001b[0mtarget\u001b[0m \u001b[0;34m-\u001b[0m  \u001b[0mself\u001b[0m\u001b[0;34m.\u001b[0m\u001b[0mpredict\u001b[0m\u001b[0;34m(\u001b[0m\u001b[0mxi\u001b[0m\u001b[0;34m)\u001b[0m\u001b[0;34m)\u001b[0m       \u001b[0;31m### EJERCICIO 1: CALCULAR LA ACTUALIZACION DE PESOS <<<<<--------------------\u001b[0m\u001b[0;34m\u001b[0m\u001b[0;34m\u001b[0m\u001b[0m\n\u001b[1;32m     54\u001b[0m                 \u001b[0mself\u001b[0m\u001b[0;34m.\u001b[0m\u001b[0mw_\u001b[0m\u001b[0;34m[\u001b[0m\u001b[0;36m1\u001b[0m\u001b[0;34m:\u001b[0m\u001b[0;34m]\u001b[0m \u001b[0;34m+=\u001b[0m \u001b[0mupdate\u001b[0m \u001b[0;34m*\u001b[0m \u001b[0mxi\u001b[0m\u001b[0;34m\u001b[0m\u001b[0;34m\u001b[0m\u001b[0m\n\u001b[0;32m---> 55\u001b[0;31m                 \u001b[0mself\u001b[0m\u001b[0;34m.\u001b[0m\u001b[0mw_\u001b[0m\u001b[0;34m[\u001b[0m\u001b[0;36m0\u001b[0m\u001b[0;34m]\u001b[0m \u001b[0;34m+=\u001b[0m \u001b[0mupdate\u001b[0m\u001b[0;34m\u001b[0m\u001b[0;34m\u001b[0m\u001b[0m\n\u001b[0m\u001b[1;32m     56\u001b[0m                 \u001b[0merrors\u001b[0m \u001b[0;34m+=\u001b[0m \u001b[0mint\u001b[0m\u001b[0;34m(\u001b[0m\u001b[0mupdate\u001b[0m \u001b[0;34m!=\u001b[0m \u001b[0;36m0.0\u001b[0m\u001b[0;34m)\u001b[0m\u001b[0;34m\u001b[0m\u001b[0;34m\u001b[0m\u001b[0m\n\u001b[1;32m     57\u001b[0m             \u001b[0mself\u001b[0m\u001b[0;34m.\u001b[0m\u001b[0merrors_\u001b[0m\u001b[0;34m.\u001b[0m\u001b[0mappend\u001b[0m\u001b[0;34m(\u001b[0m\u001b[0merrors\u001b[0m\u001b[0;34m)\u001b[0m\u001b[0;34m\u001b[0m\u001b[0;34m\u001b[0m\u001b[0m\n",
            "\u001b[0;31mValueError\u001b[0m: setting an array element with a sequence."
          ]
        }
      ],
      "source": [
        "ppn = Perceptron(eta=0.1, n_iter=10, random_state=1)\n",
        "  ### EJERCICIO 2: CREA UN PERCEPTRON CON TASA DE APRENDIZAJE 0.1 Y 10 ITERACIONES <<<<<--------------------\n",
        "\n",
        "\n",
        "ppn.fit(X, y)\n",
        "\n",
        "plt.plot(range(1, len(ppn.errors_) + 1), ppn.errors_, marker='o')\n",
        "plt.xlabel('Épocas')\n",
        "plt.ylabel('Número de actualizaciones')\n",
        "\n",
        "# plt.savefig('images/02_07.png', dpi=300)\n",
        "plt.show()"
      ]
    },
    {
      "cell_type": "markdown",
      "metadata": {
        "id": "npPgft16t7z3"
      },
      "source": [
        "### EJERCICIO 3: EXPLICA LA GRÁFICA ANTERIOR <<<<<--------------------"
      ]
    },
    {
      "cell_type": "markdown",
      "metadata": {
        "id": "496OfsBnt7z3"
      },
      "source": [
        "### Una función para pintar las regiones de decisión"
      ]
    },
    {
      "cell_type": "code",
      "execution_count": null,
      "metadata": {
        "tags": [],
        "id": "IdDqUDGUt7z3"
      },
      "outputs": [],
      "source": [
        "from matplotlib.colors import ListedColormap\n",
        "\n",
        "\n",
        "def plot_decision_regions(X, y, classifier, resolution=0.02):\n",
        "\n",
        "    # configuramos el generador de marcadores y mapa da colores\n",
        "    markers = ('s', 'x', 'o', '^', 'v')\n",
        "    colors = ('red', 'blue', 'lightgreen', 'gray', 'cyan')\n",
        "    cmap = ListedColormap(colors[:len(np.unique(y))])\n",
        "\n",
        "    # traza/pinta la superficie de decisión\n",
        "    x1_min, x1_max = X[:, 0].min() - 1, X[:, 0].max() + 1\n",
        "    x2_min, x2_max = X[:, 1].min() - 1, X[:, 1].max() + 1\n",
        "    xx1, xx2 = np.meshgrid(np.arange(x1_min, x1_max, resolution),\n",
        "                           np.arange(x2_min, x2_max, resolution))\n",
        "    Z = classifier.predict(np.array([xx1.ravel(), xx2.ravel()]).T)\n",
        "    Z = Z.reshape(xx1.shape)\n",
        "    plt.contourf(xx1, xx2, Z, alpha=0.3, cmap=cmap)\n",
        "    plt.xlim(xx1.min(), xx1.max())\n",
        "    plt.ylim(xx2.min(), xx2.max())\n",
        "\n",
        "    # pinta las muestras de clase\n",
        "    for idx, cl in enumerate(np.unique(y)):\n",
        "        plt.scatter(x=X[y == cl, 0],\n",
        "                    y=X[y == cl, 1],\n",
        "                    alpha=0.8,\n",
        "                    c=colors[idx],\n",
        "                    marker=markers[idx],\n",
        "                    label=cl,\n",
        "                    edgecolor='black')"
      ]
    },
    {
      "cell_type": "code",
      "execution_count": null,
      "metadata": {
        "id": "pjVEKKPKt7z4"
      },
      "outputs": [],
      "source": [
        "plot_decision_regions(X, y, classifier=ppn)\n",
        "plt.xlabel('longitud del sépalo [cm]')\n",
        "plt.ylabel('longitud del pétalo [cm]')\n",
        "plt.legend(loc='upper left')\n",
        "\n",
        "\n",
        "# plt.savefig('images/02_08.png', dpi=300)\n",
        "plt.show()"
      ]
    },
    {
      "cell_type": "markdown",
      "metadata": {
        "id": "SJqO1qSJt7z4"
      },
      "source": [
        "### EJERCICIO 4: EXPLICA LA GRÁFICA ANTERIOR <<<<<--------------------"
      ]
    },
    {
      "cell_type": "markdown",
      "metadata": {
        "id": "RehXlW8bt7z4"
      },
      "source": [
        "# Neurona lineales Adaptativas (ADALINE) y la convergencia del aprendizaje: Implementando una ADALINE en Python"
      ]
    },
    {
      "cell_type": "code",
      "execution_count": null,
      "metadata": {
        "tags": [],
        "id": "H5OYVotLt7z4"
      },
      "outputs": [],
      "source": [
        "class AdalineGD(object):\n",
        "    \"\"\"Clasificador ADptive LInear NEuron. ADALINE\n",
        "\n",
        "     Parámetros\n",
        "     ------------\n",
        "     eta: float\n",
        "       Tasa de aprendizaje (entre 0,0 y 1,0)\n",
        "     n_iter: int\n",
        "        Pasos sobre el conjunto de datos de entrenamiento.\n",
        "     random_state: int\n",
        "       Semilla del generador de números aleatorios para\n",
        "       inicialización de los pesos de forma aleatoria.\n",
        "\n",
        "     Atributos\n",
        "     -----------\n",
        "     w_: array-1d\n",
        "       Pesos después del entrenamiento.\n",
        "     cost_: list\n",
        "       Valor de la función de coste (suma de cuadrados) en cada época.\n",
        "\n",
        "     \"\"\"\n",
        "    def __init__(self, eta=0.01, n_iter=50, random_state=1):\n",
        "        self.eta = eta\n",
        "        self.n_iter = n_iter\n",
        "        self.random_state = random_state\n",
        "\n",
        "    def fit(self, X, y):\n",
        "        \"\"\" Ajustar pesos con los datos de entrenamiento.\n",
        "\n",
        "         Parámetros\n",
        "         ----------\n",
        "         X: {tipo-array}, shape = [n_samples, n_features]\n",
        "           Vectores de entrenamiento, donde n_samples es el número de muestras y\n",
        "           n_features es el número de características.\n",
        "         y: tipo-array, shape = [n_samples]\n",
        "           Valores objetivo.\n",
        "\n",
        "         Retorno\n",
        "         -------\n",
        "         self: objet\n",
        "\n",
        "         \"\"\"\n",
        "        rgen = np.random.RandomState(self.random_state)\n",
        "        self.w_ = rgen.normal(loc=0.0, scale=0.01, size=1 + X.shape[1])\n",
        "        self.cost_ = []\n",
        "\n",
        "        for i in range(self.n_iter):\n",
        "            net_input = self.net_input(X)\n",
        "            # Tened en cuenta que el método de \"activation\" no tiene ningún efecto\n",
        "            # en el código ya que es simplemente una función de identidad. Nosotros\n",
        "            # podría escribir `output = self.net_input(X)` directamente en su lugar.\n",
        "            # El propósito del activation es más conceptual, es decir,\n",
        "            # en el caso de la regresión logística, podríamos cambiarlo a\n",
        "            # una función sigmoidea para implementar un clasificador de regresión logística.\n",
        "            output = self.activation(net_input)\n",
        "            errors = ### EJERCICIO 5: CALCULA EL ERROR <<<<<--------------------\n",
        "            self.w_[1:] += self.eta * X.T.dot(errors)\n",
        "            self.w_[0] += self.eta * errors.sum()\n",
        "            cost = (errors**2).sum() / 2.0\n",
        "            self.cost_.append(cost)\n",
        "        return self\n",
        "\n",
        "    def net_input(self, X):\n",
        "        \"\"\"Calcular la entrada neta\"\"\"\n",
        "        return np.dot(X, self.w_[1:]) + self.w_[0]\n",
        "\n",
        "    def activation(self, X):\n",
        "        \"\"\"Computar la activación lineal\"\"\"\n",
        "        return X\n",
        "\n",
        "    def predict(self, X):\n",
        "        \"\"\"Devolver etiqueta de clase después del paso unitario\"\"\"\n",
        "        return np.where(self.activation(self.net_input(X)) >= 0.0, 1, -1)"
      ]
    },
    {
      "cell_type": "code",
      "execution_count": null,
      "metadata": {
        "id": "bW07bo7Qt7z4"
      },
      "outputs": [],
      "source": [
        "fig, ax = plt.subplots(nrows=1, ncols=2, figsize=(10, 4))\n",
        "\n",
        "ada1 = ### EJERCICIO 6: Crea y entrena con los datos de entrenamiento y sus etiquetas un Adaline de Gradiente Descendente\n",
        "       ### con 10 iteraciones y una tasa de aprendizaje de 0.01 <<<<<--------------------<<<<<--------------------<<<<<--------------------\n",
        "ax[0].plot(range(1, len(ada1.cost_) + 1), np.log10(ada1.cost_), marker='o')\n",
        "ax[0].set_xlabel('Épocas')\n",
        "ax[0].set_ylabel('log(Sum-error cuadrático)')\n",
        "ax[0].set_title('Adaline - Learning rate 0.01')\n",
        "\n",
        "ada2 = AdalineGD(n_iter=10, eta=0.0001).fit(X, y)\n",
        "ax[1].plot(range(1, len(ada2.cost_) + 1), ada2.cost_, marker='o')\n",
        "ax[1].set_xlabel('Épocas')\n",
        "ax[1].set_ylabel('Sum-error-cuadrático')\n",
        "ax[1].set_title('Adaline - Learning rate 0.0001')\n",
        "\n",
        "# plt.savefig('images/02_11.png', dpi=300)\n",
        "plt.show()"
      ]
    },
    {
      "cell_type": "markdown",
      "metadata": {
        "id": "9mk3YVR4t7z4"
      },
      "source": [
        "### EJERCICIO 7: EXPLICA LAS DOS GRÁFICAS ANTERIORES <<<<<--------------------"
      ]
    },
    {
      "cell_type": "markdown",
      "metadata": {
        "id": "yBDw5_9Ct7z4"
      },
      "source": [
        "## Mejorando el Gradiente Descendente con escalado de características"
      ]
    },
    {
      "cell_type": "code",
      "execution_count": null,
      "metadata": {
        "tags": [],
        "id": "mVl4Oojpt7z4"
      },
      "outputs": [],
      "source": [
        "# Estandarizar características\n",
        "X_std = np.copy(X)\n",
        "X_std[:, 0] = ### EJERCICIO 8: ESTANDARIZA LAS CARACTERÍSTICAS <<<<<--------------------\n",
        "X_std[:, 1] = ### EJERCICIO 8: ESTANDARIZA LAS CARACTERÍSTICAS <<<<<--------------------"
      ]
    },
    {
      "cell_type": "code",
      "execution_count": null,
      "metadata": {
        "id": "yvp6PFdNt7z5"
      },
      "outputs": [],
      "source": [
        "ada = AdalineGD(n_iter=15, eta=0.01)\n",
        "ada.fit(X_std, y)\n",
        "\n",
        "plot_decision_regions(X_std, y, classifier=ada)\n",
        "plt.title('Adaline - Descenso Gradiente')\n",
        "plt.xlabel('Longitud Sépalo [estandarizado]')\n",
        "plt.ylabel('Longitud Pétalo [estandarizado]')\n",
        "plt.legend(loc='upper left')\n",
        "plt.tight_layout()\n",
        "# plt.savefig('images/02_14_1.png', dpi=300)\n",
        "plt.show()\n",
        "\n",
        "plt.plot(range(1, len(ada.cost_) + 1), ada.cost_, marker='o')\n",
        "plt.xlabel('Épocas')\n",
        "plt.ylabel('Sum-error-cuadrático')\n",
        "\n",
        "plt.tight_layout()\n",
        "# plt.savefig('images/02_14_2.png', dpi=300)\n",
        "plt.show()"
      ]
    },
    {
      "cell_type": "markdown",
      "metadata": {
        "id": "hdOl5Suit7z5"
      },
      "source": [
        "### EJERCICIO 9: EXPLICA LAS DOS GRÁFICAS ANTERIORES <<<<<--------------------"
      ]
    },
    {
      "cell_type": "markdown",
      "metadata": {
        "id": "UCqiHrLut7z5"
      },
      "source": [
        "## Aprendizaje Automático a Gran Escala y Descendiente de Gradiente Estocástico"
      ]
    },
    {
      "cell_type": "code",
      "execution_count": null,
      "metadata": {
        "tags": [],
        "id": "rGfxeCR8t7z5"
      },
      "outputs": [],
      "source": [
        "class AdalineSGD(object):\n",
        "    \"\"\"Clasificador ADptive LInear NEuron. ADALINE\n",
        "\n",
        "     Parámetros\n",
        "     ------------\n",
        "     eta: float\n",
        "       Tasa de aprendizaje (entre 0,0 y 1,0)\n",
        "     n_iter: int\n",
        "        Pasos sobre el conjunto de datos de entrenamiento.\n",
        "     shuffle : bool (default: True)\n",
        "      Si es Verdadero, mezcla los datos de entrenamiento en cada época, para evitar ciclos.\n",
        "     random_state: int\n",
        "       Semilla del generador de números aleatorios para\n",
        "       inicialización de los pesos de forma aleatoria.\n",
        "\n",
        "     Atributos\n",
        "     -----------\n",
        "     w_: array-1d\n",
        "       Pesos después del entrenamiento.\n",
        "     cost_: list\n",
        "       Valor de la función de coste (suma de cuadrados) promediado sobre todas las muestras\n",
        "       de entrenamiento en cada época.\n",
        "\n",
        "     \"\"\"\n",
        "    def __init__(self, eta=0.01, n_iter=10, shuffle=True, random_state=None):\n",
        "        self.eta = eta\n",
        "        self.n_iter = n_iter\n",
        "        self.w_initialized = False\n",
        "        self.shuffle = shuffle\n",
        "        self.random_state = random_state\n",
        "\n",
        "    def fit(self, X, y):\n",
        "        \"\"\" Ajustar pesos con los datos de entrenamiento.\n",
        "\n",
        "         Parámetros\n",
        "         ----------\n",
        "         X: {tipo-array}, shape = [n_samples, n_features]\n",
        "           Vectores de entrenamiento, donde n_samples es el número de muestras y\n",
        "           n_features es el número de características.\n",
        "         y: tipo-array, shape = [n_samples]\n",
        "           Valores objetivo.\n",
        "\n",
        "         Retorno\n",
        "         -------\n",
        "         self: objet\n",
        "\n",
        "         \"\"\"\n",
        "        self._initialize_weights(X.shape[1])\n",
        "        self.cost_ = []\n",
        "        for i in range(self.n_iter):\n",
        "            if self.shuffle:\n",
        "                X, y = self._shuffle(X, y)\n",
        "            cost = []\n",
        "            for xi, target in zip(X, y):\n",
        "                cost.append(self._update_weights(xi, target))\n",
        "            avg_cost = sum(cost) / len(y)\n",
        "            self.cost_.append(avg_cost)\n",
        "        return self\n",
        "\n",
        "    def partial_fit(self, X, y):\n",
        "        \"\"\"Ajustar pesos con los datos de entrenamiento sin reinicializar los pesos\"\"\"\n",
        "        if not self.w_initialized:\n",
        "            self._initialize_weights(X.shape[1])\n",
        "        if y.ravel().shape[0] > 1:\n",
        "            for xi, target in zip(X, y):\n",
        "                self._update_weights(xi, target)\n",
        "        else:\n",
        "            self._update_weights(X, y)\n",
        "        return self\n",
        "\n",
        "    def _shuffle(self, X, y):\n",
        "        \"\"\"Mezclar los datos de entrenamiento\"\"\"\n",
        "        r = self.rgen.permutation(len(y))\n",
        "        return X[r], y[r]\n",
        "\n",
        "    def _initialize_weights(self, m):\n",
        "        \"\"\"Inicializar pesos con pequeños números aleatorios\"\"\"\n",
        "        self.rgen = np.random.RandomState(self.random_state)\n",
        "        self.w_ = self.rgen.normal(loc=0.0, scale=0.01, size=1 + m)\n",
        "        self.w_initialized = True\n",
        "\n",
        "    def _update_weights(self, xi, target):\n",
        "        \"\"\"Aplicar la regla de aprendizaje de Adaline para actualizar los pesos\"\"\"\n",
        "        output = self.activation(self.net_input(xi))\n",
        "        error = (target - output)\n",
        "        self.w_[1:] += self.eta * xi.dot(error)\n",
        "        self.w_[0] += self.eta * error\n",
        "        cost = 0.5 * error**2\n",
        "        return cost\n",
        "\n",
        "    def net_input(self, X):\n",
        "        \"\"\"Calcular la entrada neta\"\"\"\n",
        "        return np.dot(X, self.w_[1:]) + self.w_[0]\n",
        "\n",
        "    def activation(self, X):\n",
        "        \"\"\"Calcular la activación lineal\"\"\"\n",
        "        return X\n",
        "\n",
        "    def predict(self, X):\n",
        "        \"\"\"Devolver etiqueta de clase después del paso unitario\"\"\"\n",
        "        return np.where(self.activation(self.net_input(X)) >= 0.0, 1, -1)"
      ]
    },
    {
      "cell_type": "code",
      "execution_count": null,
      "metadata": {
        "id": "bOIJWJx8t7z5"
      },
      "outputs": [],
      "source": [
        "ada = AdalineSGD(n_iter=15, eta=0.01, random_state=1)\n",
        "ada.fit(X_std, y)\n",
        "\n",
        "plot_decision_regions(X_std, y, classifier=ada)\n",
        "plt.title('Adaline - Gradiente Descendente Estocástico')\n",
        "plt.xlabel('Longitud Sépalo [estandarizado]')\n",
        "plt.ylabel('Longitud Pétalo [estandarizado]')\n",
        "plt.legend(loc='upper left')\n",
        "\n",
        "plt.tight_layout()\n",
        "# plt.savefig('images/02_15_1.png', dpi=300)\n",
        "plt.show()\n",
        "\n",
        "plt.plot(range(1, len(ada.cost_) + 1), ada.cost_, marker='o')\n",
        "plt.xlabel('Épocas')\n",
        "plt.ylabel('Coste Medio')\n",
        "\n",
        "plt.tight_layout()\n",
        "# plt.savefig('images/02_15_2.png', dpi=300)\n",
        "plt.show()"
      ]
    },
    {
      "cell_type": "markdown",
      "metadata": {
        "id": "wZz9_nfmt7z5"
      },
      "source": [
        "### EJERCICIO 10: EXPLICA LAS DOS GRÁFICAS ANTERIORES <<<<<--------------------"
      ]
    },
    {
      "cell_type": "code",
      "execution_count": null,
      "metadata": {
        "id": "V1eecLQlt7z5"
      },
      "outputs": [],
      "source": [
        "ada.partial_fit(X_std[0, :], y[0])"
      ]
    },
    {
      "cell_type": "markdown",
      "metadata": {
        "id": "pWxYAj6Rt7z6"
      },
      "source": [
        "# Resumen"
      ]
    },
    {
      "cell_type": "code",
      "execution_count": null,
      "metadata": {
        "id": "cmEDhGpot7z6"
      },
      "outputs": [],
      "source": [
        "! python ../.convert_notebook_to_script.py --input 2_4_Perceptron_y_Adaline.ipynb --output 2_4_Perceptron_y_Adaline.py"
      ]
    },
    {
      "cell_type": "code",
      "execution_count": null,
      "metadata": {
        "tags": [],
        "id": "mMVkbGJXt7z6"
      },
      "outputs": [],
      "source": []
    }
  ],
  "metadata": {
    "anaconda-cloud": {},
    "kernelspec": {
      "display_name": "Python 3 (ipykernel)",
      "language": "python",
      "name": "python3"
    },
    "language_info": {
      "codemirror_mode": {
        "name": "ipython",
        "version": 3
      },
      "file_extension": ".py",
      "mimetype": "text/x-python",
      "name": "python",
      "nbconvert_exporter": "python",
      "pygments_lexer": "ipython3",
      "version": "3.9.13"
    },
    "colab": {
      "provenance": []
    }
  },
  "nbformat": 4,
  "nbformat_minor": 0
}