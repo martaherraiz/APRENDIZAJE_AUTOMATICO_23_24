{
  "nbformat": 4,
  "nbformat_minor": 0,
  "metadata": {
    "kernelspec": {
      "display_name": "Python 3",
      "name": "python3"
    },
    "language_info": {
      "codemirror_mode": {
        "name": "ipython",
        "version": 3
      },
      "file_extension": ".py",
      "mimetype": "text/x-python",
      "name": "python",
      "nbconvert_exporter": "python",
      "pygments_lexer": "ipython3",
      "version": "3.5.2"
    },
    "colab": {
      "name": "3_2_Clasificacion_multiclase_noticias.ipynb",
      "provenance": [],
      "gpuType": "T4",
      "include_colab_link": true
    },
    "accelerator": "GPU"
  },
  "cells": [
    {
      "cell_type": "markdown",
      "metadata": {
        "id": "view-in-github",
        "colab_type": "text"
      },
      "source": [
        "<a href=\"https://colab.research.google.com/github/martaherraiz/APRENDIZAJE_AUTOMATICO_23_24/blob/main/TEMA%201/3_2_Clasificacion_multiclase_noticias.ipynb\" target=\"_parent\"><img src=\"https://colab.research.google.com/assets/colab-badge.svg\" alt=\"Open In Colab\"/></a>"
      ]
    },
    {
      "cell_type": "code",
      "metadata": {
        "id": "Dmi65Nt7nxld",
        "colab": {
          "base_uri": "https://localhost:8080/",
          "height": 35
        },
        "outputId": "defffbcf-5001-4fae-adf0-1d43cd7180f4"
      },
      "source": [
        "import keras\n",
        "keras.__version__"
      ],
      "execution_count": 2,
      "outputs": [
        {
          "output_type": "execute_result",
          "data": {
            "text/plain": [
              "'2.13.1'"
            ],
            "application/vnd.google.colaboratory.intrinsic+json": {
              "type": "string"
            }
          },
          "metadata": {},
          "execution_count": 2
        }
      ]
    },
    {
      "cell_type": "markdown",
      "metadata": {
        "id": "TkrnDKKMnxlg"
      },
      "source": [
        "# Clasificación de noticias: un ejemplo de clasificación multiclase\n",
        "----\n",
        "Ya hemos visto cómo clasificar las entradas vectoriales en dos clases mutuamente excluyentes utilizando una red neuronal densamente conectada.\n",
        "Pero, ¿qué pasa cuando tienes más de dos clases?\n",
        "\n",
        "Ahora crearemos una red para clasificar las noticias de Reuters en **46 temas mutuamente excluyentes**. Como cada noticia debe clasificarse en una sola categoría, es un problema de **\"clasificación multiclase de una sola etiqueta\"**."
      ]
    },
    {
      "cell_type": "markdown",
      "metadata": {
        "id": "Izoyxmwbnxli"
      },
      "source": [
        "## El conjunto de datos de Reuters\n",
        "\n",
        "El Reuters dataset es un conjunto de noticias breves y sus temas, publicado por Reuters en 1986. Son 46 temas diferentes; **algunos temas están más representados que otros**, pero cada uno tiene, al menos, **10 ejemplos en el conjunto** de entrenamiento.\n",
        "\n",
        "Al igual que IMDB y MNIST, el conjunto de datos de Reuters viene **empaquetado como parte de Keras**."
      ]
    },
    {
      "cell_type": "code",
      "metadata": {
        "collapsed": true,
        "id": "9NaMkWBXnxli",
        "colab": {
          "base_uri": "https://localhost:8080/"
        },
        "outputId": "dae500ca-bbdc-4b37-8dc3-064f185b3826"
      },
      "source": [
        "from keras.datasets import reuters\n",
        "\n",
        "(train_data, train_labels), (test_data, test_labels) = reuters.load_data(num_words=10000)"
      ],
      "execution_count": 3,
      "outputs": [
        {
          "output_type": "stream",
          "name": "stdout",
          "text": [
            "Downloading data from https://storage.googleapis.com/tensorflow/tf-keras-datasets/reuters.npz\n",
            "2110848/2110848 [==============================] - 0s 0us/step\n"
          ]
        }
      ]
    },
    {
      "cell_type": "markdown",
      "metadata": {
        "id": "CozwLpAvnxli"
      },
      "source": [
        "Al igual que con el conjunto de datos de IMDB, el argumento `num_words = 10000` restringe los datos a las **10.000 palabras más frecuentes** que se encuentran en los datos.\n",
        "\n",
        "Tenemos 8.982 ejemplos de entrenamiento y 2.246 ejemplos de prueba:"
      ]
    },
    {
      "cell_type": "code",
      "metadata": {
        "id": "0HJcxlr1nxlj",
        "colab": {
          "base_uri": "https://localhost:8080/"
        },
        "outputId": "51e094e6-fa35-466e-b5f5-d1198871d934"
      },
      "source": [
        "len(train_data)"
      ],
      "execution_count": 4,
      "outputs": [
        {
          "output_type": "execute_result",
          "data": {
            "text/plain": [
              "8982"
            ]
          },
          "metadata": {},
          "execution_count": 4
        }
      ]
    },
    {
      "cell_type": "code",
      "metadata": {
        "id": "LbKH6-Cpnxlj",
        "colab": {
          "base_uri": "https://localhost:8080/"
        },
        "outputId": "40c84c9e-baf9-494d-df20-dc75afb96614"
      },
      "source": [
        "len(test_data)"
      ],
      "execution_count": 5,
      "outputs": [
        {
          "output_type": "execute_result",
          "data": {
            "text/plain": [
              "2246"
            ]
          },
          "metadata": {},
          "execution_count": 5
        }
      ]
    },
    {
      "cell_type": "markdown",
      "metadata": {
        "id": "rRQ7AWE5nxlk"
      },
      "source": [
        "Al igual que con las críticas de IMDB, cada ejemplo es una lista de números enteros (índices de palabras):"
      ]
    },
    {
      "cell_type": "code",
      "metadata": {
        "id": "x7Sfvxm-nxlk",
        "colab": {
          "base_uri": "https://localhost:8080/"
        },
        "outputId": "a796fc70-af67-4282-da27-b05f315c7965"
      },
      "source": [
        "train_data[10]"
      ],
      "execution_count": 6,
      "outputs": [
        {
          "output_type": "execute_result",
          "data": {
            "text/plain": [
              "[1,\n",
              " 245,\n",
              " 273,\n",
              " 207,\n",
              " 156,\n",
              " 53,\n",
              " 74,\n",
              " 160,\n",
              " 26,\n",
              " 14,\n",
              " 46,\n",
              " 296,\n",
              " 26,\n",
              " 39,\n",
              " 74,\n",
              " 2979,\n",
              " 3554,\n",
              " 14,\n",
              " 46,\n",
              " 4689,\n",
              " 4329,\n",
              " 86,\n",
              " 61,\n",
              " 3499,\n",
              " 4795,\n",
              " 14,\n",
              " 61,\n",
              " 451,\n",
              " 4329,\n",
              " 17,\n",
              " 12]"
            ]
          },
          "metadata": {},
          "execution_count": 6
        }
      ]
    },
    {
      "cell_type": "markdown",
      "metadata": {
        "id": "ys_v0Ykknxlk"
      },
      "source": [
        "Así es como podemos decodificarlo para volverlo a convertir en palabras, por si tenéis curiosidad:"
      ]
    },
    {
      "cell_type": "code",
      "metadata": {
        "collapsed": true,
        "id": "B4N2Ygn0nxll",
        "colab": {
          "base_uri": "https://localhost:8080/"
        },
        "outputId": "54a24da4-3677-48e5-cb8d-9e890fa95fd2"
      },
      "source": [
        "word_index = reuters.get_word_index()\n",
        "reverse_word_index = dict([(value, key) for (key, value) in word_index.items()])\n",
        "# Los índices están desviados en 3 porque 0, 1 y 2 don índices reservados para\n",
        "# \"relleno\", \"comienzo de secuencia\" y \"desconocido\"\n",
        "decoded_newswire = ' '.join([reverse_word_index.get(i - 3, '?') for i in train_data[0]])"
      ],
      "execution_count": 7,
      "outputs": [
        {
          "output_type": "stream",
          "name": "stdout",
          "text": [
            "Downloading data from https://storage.googleapis.com/tensorflow/tf-keras-datasets/reuters_word_index.json\n",
            "550378/550378 [==============================] - 0s 0us/step\n"
          ]
        }
      ]
    },
    {
      "cell_type": "code",
      "metadata": {
        "id": "wMcRFJbXnxll",
        "colab": {
          "base_uri": "https://localhost:8080/",
          "height": 71
        },
        "outputId": "d27540dc-ce95-43f7-df8c-03c60232000d"
      },
      "source": [
        "decoded_newswire"
      ],
      "execution_count": 8,
      "outputs": [
        {
          "output_type": "execute_result",
          "data": {
            "text/plain": [
              "'? ? ? said as a result of its december acquisition of space co it expects earnings per share in 1987 of 1 15 to 1 30 dlrs per share up from 70 cts in 1986 the company said pretax net should rise to nine to 10 mln dlrs from six mln dlrs in 1986 and rental operation revenues to 19 to 22 mln dlrs from 12 5 mln dlrs it said cash flow per share this year should be 2 50 to three dlrs reuter 3'"
            ],
            "application/vnd.google.colaboratory.intrinsic+json": {
              "type": "string"
            }
          },
          "metadata": {},
          "execution_count": 8
        }
      ]
    },
    {
      "cell_type": "markdown",
      "metadata": {
        "id": "9AyXoYH0nxlm"
      },
      "source": [
        "La etiqueta asociada con el ejemplo es un entero entre 0 y 45 (un índice del tema)"
      ]
    },
    {
      "cell_type": "code",
      "metadata": {
        "id": "Oxcy5sxjnxlm",
        "colab": {
          "base_uri": "https://localhost:8080/"
        },
        "outputId": "e69fc829-6596-434b-9835-eabaf619fb6b"
      },
      "source": [
        "train_labels[10]"
      ],
      "execution_count": 9,
      "outputs": [
        {
          "output_type": "execute_result",
          "data": {
            "text/plain": [
              "3"
            ]
          },
          "metadata": {},
          "execution_count": 9
        }
      ]
    },
    {
      "cell_type": "markdown",
      "metadata": {
        "id": "DOzhvd6Znxlm"
      },
      "source": [
        "## Preparando los datos\n",
        "\n",
        "Podemor vectorizar los datos con el mismo código que en ejemplo de las críticas de cine.\n",
        "\n",
        "al hacer one-hot encoding ...\n",
        "usando el otro caso podemos obviar el contexto de las palabras y las veces que aparece cada una, pero ganamos sencillez"
      ]
    },
    {
      "cell_type": "code",
      "metadata": {
        "collapsed": true,
        "id": "x2ERdKRQnxlm"
      },
      "source": [
        "import numpy as np\n",
        "\n",
        "def vectorize_sequences(sequences, dimension=10000):\n",
        "    results = np.zeros((len(sequences), dimension))\n",
        "    for i, sequence in enumerate(sequences):\n",
        "        results[i, sequence] = 1.\n",
        "    return results\n",
        "\n",
        "# Datos de entrenamiento vectorizados\n",
        "x_train = vectorize_sequences(train_data)\n",
        "# Datos de test vectorizados\n",
        "x_test = vectorize_sequences(test_data)"
      ],
      "execution_count": 10,
      "outputs": []
    },
    {
      "cell_type": "markdown",
      "metadata": {
        "id": "wPom4deInxln"
      },
      "source": [
        "Para vectorizar las etiquetas, hay dos posibilidades\n",
        "1. Podríamos simplemente convertir la lista de etiquetas como un tensor entero\n",
        "2. Podríamos usar un \"one-hot\"codification. La codificación one-hot es un formato ampliamente utilizado para datos categóricos, también llamado \"codificación categórica\".\n",
        "\n",
        "En nuestro caso, la codificación **one-hot** de nuestras etiquetas consiste en incrustar cada etiqueta como un **vector con todo ceros (46), salvo un 1 en el lugar del índice de la etiqueta**:\n",
        "\n",
        "las noticias solo pueden ser de una clase, labels = 1\n"
      ]
    },
    {
      "cell_type": "code",
      "metadata": {
        "collapsed": true,
        "id": "TH9mRCzInxln",
        "outputId": "a72c0bc3-7669-4a47-8ad8-3e22b3755487",
        "colab": {
          "base_uri": "https://localhost:8080/"
        }
      },
      "source": [
        "def to_one_hot(labels, dimension=46):\n",
        "    results = np.zeros((len(labels), dimension))\n",
        "    for i, label in enumerate(labels):\n",
        "        results[i, label] = 1.\n",
        "    return results\n",
        "\n",
        "# Datos de entrenamiento vectorizados\n",
        "one_hot_train_labels = to_one_hot(train_labels)\n",
        "# Datos de test vectorizados\n",
        "one_hot_test_labels = to_one_hot(test_labels)\n",
        "print(one_hot_test_labels)"
      ],
      "execution_count": 11,
      "outputs": [
        {
          "output_type": "stream",
          "name": "stdout",
          "text": [
            "[[0. 0. 0. ... 0. 0. 0.]\n",
            " [0. 0. 0. ... 0. 0. 0.]\n",
            " [0. 1. 0. ... 0. 0. 0.]\n",
            " ...\n",
            " [0. 0. 0. ... 0. 0. 0.]\n",
            " [0. 0. 0. ... 0. 0. 0.]\n",
            " [0. 0. 0. ... 0. 0. 0.]]\n"
          ]
        }
      ]
    },
    {
      "cell_type": "markdown",
      "metadata": {
        "id": "-FUV8ItHnxln"
      },
      "source": [
        "Tener en cuenta que hay una manera integrada de hacer esto en Keras, que ya hemos visto en nuestro ejemplo de MNIST:"
      ]
    },
    {
      "cell_type": "code",
      "metadata": {
        "collapsed": true,
        "id": "oLUqfGUCnxlo",
        "outputId": "e09b5c52-735f-49a9-a82f-32202cb8aeb6",
        "colab": {
          "base_uri": "https://localhost:8080/"
        }
      },
      "source": [
        "from keras.utils import to_categorical\n",
        "\n",
        "one_hot_train_labels = to_categorical(train_labels)\n",
        "one_hot_test_labels = to_categorical(test_labels)\n",
        "print(one_hot_test_labels)"
      ],
      "execution_count": 12,
      "outputs": [
        {
          "output_type": "stream",
          "name": "stdout",
          "text": [
            "[[0. 0. 0. ... 0. 0. 0.]\n",
            " [0. 0. 0. ... 0. 0. 0.]\n",
            " [0. 1. 0. ... 0. 0. 0.]\n",
            " ...\n",
            " [0. 0. 0. ... 0. 0. 0.]\n",
            " [0. 0. 0. ... 0. 0. 0.]\n",
            " [0. 0. 0. ... 0. 0. 0.]]\n"
          ]
        }
      ]
    },
    {
      "cell_type": "markdown",
      "metadata": {
        "id": "0y7X1miPnxlo"
      },
      "source": [
        "## Crear la red\n",
        "\n",
        "\n",
        "Este problema de clasificación es parecido al anterior de películas solo que con una nueva restricción: el número de clases de salida ha pasado de 2 a 46, es decir, **la dimensionalidad del espacio de salida es mucho mayor**.\n",
        "\n",
        "En una pila de capas `Dense` como la que estábamos usando, **cada capa solo puede acceder a la información presente en la salida de la capa anterior**.\n",
        "**Si una capa abandona una información relevante para el problema de clasificación, dicha información nunca podrá ser recuperada por capas posteriores**: **cada capa puede, potencialmente, convertirse en un \"cuello de botella\" u obstáculo para la información\"**. En nuestro ejemplo anterior, estábamos usando capas intermedias de 16 dimensiones, pero un espacio de **16 dimensiones puede ser demasiado limitado para aprender a separar 46 clases diferentes**: capas tan pequeñas pueden actuar como cuellos de botella de información, abandonando permanentemente información relevante.\n",
        "\n",
        "Hacen falta un 140% de neuronas por cada capa. Si hay 46 clases usamos un 40% extra, es decir 64 neuronas en cada capa intermedia\n",
        "\n",
        "Si usáramos un 40 aquí:\n",
        "\n",
        "model.add(layers.Dense(64, activation='relu', input_shape=(10000,)))\n",
        "\n",
        "model.add(layers.Dense(40, activation='relu'))\n",
        "\n",
        "model.add(layers.Dense(46, activation='softmax'))\n",
        "\n",
        "se genera un cuello de botella, en el segundo filtro que es este, se produce una pérdida de información. Esa información ya no se recupera en la tercera capa. LA función de activación softmax es porque es una distribución de probabilidad, entra una noticia y puede ser con x probabilidad una de las 46 clases, la suma de las probabilidades debe ser 1.\n",
        "\n",
        "Por esta razón usaremos capas más grandes. **Vayamos con 64 unidades**:"
      ]
    },
    {
      "cell_type": "code",
      "metadata": {
        "collapsed": true,
        "id": "9DauD9tcnxlo"
      },
      "source": [
        "from keras import models\n",
        "from keras import layers\n",
        "\n",
        "model = models.Sequential()\n",
        "model.add(layers.Dense(64, activation='relu', input_shape=(10000,)))\n",
        "model.add(layers.Dense(64, activation='relu'))\n",
        "model.add(layers.Dense(46, activation='softmax'))"
      ],
      "execution_count": 13,
      "outputs": []
    },
    {
      "cell_type": "markdown",
      "metadata": {
        "id": "yIZfUHTTnxlo"
      },
      "source": [
        "Hay otras dos cosas que debe tener en cuenta sobre esta arquitectura:\n",
        "\n",
        "* Terminamos la red con una capa \"Densa\" de tamaño 46. Para cada muestra de entrada, nuestra red generará un vector de 46 dimensiones. Cada entrada en este vector (cada dimensión) codificará una clase de salida diferente.\n",
        "* La última capa utiliza una activación \"softmax\". Esto significa que la red\n",
        "genera una **distribución de probabilidad** sobre las 46 clases de salida diferentes, es decir, para cada muestra de entrada, la red producirá un\n",
        "vector de salida de 46 dimensiones donde \"salida [i]\" es la probabilidad de que la muestra pertenezca a la clase \"i\". Las 46 puntuaciones sumarán 1.\n",
        "\n",
        "La mejor función de pérdida para usar en este caso es `categorical_crossentropy`. **Mide la distancia entre dos distribuciones de probabilidad**: en nuestro caso, **entre la distribución de probabilidad de salida de nuestra red y la distribución real de las etiquetas**. **Minimizando la distancia entre estas dos distribuciones**, entrenamos nuestra red para generar algo lo más cercano posible a las etiquetas verdaderas.\n",
        "\n",
        "Usamos categorical porque calcula la distancia entre dos distribuciones de probabilidad. Si no hubieramos usado one hot-encoding usariamos sparse_categorical_crossentropy"
      ]
    },
    {
      "cell_type": "code",
      "metadata": {
        "collapsed": true,
        "id": "H58tHWI6nxlp"
      },
      "source": [
        "model.compile(optimizer='rmsprop',\n",
        "              loss='categorical_crossentropy',\n",
        "              metrics=['accuracy'])"
      ],
      "execution_count": 14,
      "outputs": []
    },
    {
      "cell_type": "markdown",
      "metadata": {
        "id": "k_ZvZWM6nxlp"
      },
      "source": [
        "## Validar el enfoque:\n",
        "\n",
        "Vamos a separar 1.000 muestras en los datos de entrenamiento para utilizarlas como conjunto de validación :"
      ]
    },
    {
      "cell_type": "code",
      "metadata": {
        "collapsed": true,
        "id": "8C9_lrCUnxlp"
      },
      "source": [
        "x_val = x_train[:1000]\n",
        "partial_x_train = x_train[1000:]\n",
        "\n",
        "y_val = one_hot_train_labels[:1000]\n",
        "partial_y_train = one_hot_train_labels[1000:]"
      ],
      "execution_count": 15,
      "outputs": []
    },
    {
      "cell_type": "markdown",
      "metadata": {
        "id": "H_sWy-GOnxlp"
      },
      "source": [
        "Ahora entrenamos nuestra red con 20 épocas:"
      ]
    },
    {
      "cell_type": "code",
      "metadata": {
        "id": "0nmfVLisnxlq",
        "colab": {
          "base_uri": "https://localhost:8080/"
        },
        "outputId": "a7c94355-e71b-418e-c60b-9472047dd286"
      },
      "source": [
        "history = model.fit(partial_x_train,\n",
        "                    partial_y_train,\n",
        "                    epochs=20,\n",
        "                    batch_size=512,\n",
        "                    validation_data=(x_val, y_val))"
      ],
      "execution_count": 16,
      "outputs": [
        {
          "output_type": "stream",
          "name": "stdout",
          "text": [
            "Epoch 1/20\n",
            "16/16 [==============================] - 8s 42ms/step - loss: 2.7925 - accuracy: 0.4791 - val_loss: 1.8920 - val_accuracy: 0.6110\n",
            "Epoch 2/20\n",
            "16/16 [==============================] - 0s 20ms/step - loss: 1.5682 - accuracy: 0.6690 - val_loss: 1.3964 - val_accuracy: 0.6930\n",
            "Epoch 3/20\n",
            "16/16 [==============================] - 0s 21ms/step - loss: 1.1871 - accuracy: 0.7432 - val_loss: 1.2114 - val_accuracy: 0.7450\n",
            "Epoch 4/20\n",
            "16/16 [==============================] - 0s 19ms/step - loss: 0.9722 - accuracy: 0.7919 - val_loss: 1.1006 - val_accuracy: 0.7660\n",
            "Epoch 5/20\n",
            "16/16 [==============================] - 0s 18ms/step - loss: 0.8099 - accuracy: 0.8279 - val_loss: 1.0419 - val_accuracy: 0.7660\n",
            "Epoch 6/20\n",
            "16/16 [==============================] - 0s 21ms/step - loss: 0.6838 - accuracy: 0.8547 - val_loss: 0.9642 - val_accuracy: 0.7960\n",
            "Epoch 7/20\n",
            "16/16 [==============================] - 0s 25ms/step - loss: 0.5730 - accuracy: 0.8789 - val_loss: 0.9361 - val_accuracy: 0.8000\n",
            "Epoch 8/20\n",
            "16/16 [==============================] - 0s 24ms/step - loss: 0.4823 - accuracy: 0.8983 - val_loss: 0.9018 - val_accuracy: 0.8120\n",
            "Epoch 9/20\n",
            "16/16 [==============================] - 0s 26ms/step - loss: 0.4089 - accuracy: 0.9157 - val_loss: 0.8777 - val_accuracy: 0.8120\n",
            "Epoch 10/20\n",
            "16/16 [==============================] - 0s 24ms/step - loss: 0.3485 - accuracy: 0.9256 - val_loss: 0.8778 - val_accuracy: 0.8160\n",
            "Epoch 11/20\n",
            "16/16 [==============================] - 0s 26ms/step - loss: 0.3044 - accuracy: 0.9346 - val_loss: 0.8938 - val_accuracy: 0.8110\n",
            "Epoch 12/20\n",
            "16/16 [==============================] - 0s 25ms/step - loss: 0.2626 - accuracy: 0.9396 - val_loss: 0.8737 - val_accuracy: 0.8290\n",
            "Epoch 13/20\n",
            "16/16 [==============================] - 0s 20ms/step - loss: 0.2352 - accuracy: 0.9471 - val_loss: 0.9251 - val_accuracy: 0.8080\n",
            "Epoch 14/20\n",
            "16/16 [==============================] - 0s 20ms/step - loss: 0.2032 - accuracy: 0.9505 - val_loss: 0.9209 - val_accuracy: 0.8110\n",
            "Epoch 15/20\n",
            "16/16 [==============================] - 0s 21ms/step - loss: 0.1908 - accuracy: 0.9538 - val_loss: 0.9459 - val_accuracy: 0.8130\n",
            "Epoch 16/20\n",
            "16/16 [==============================] - 0s 18ms/step - loss: 0.1795 - accuracy: 0.9514 - val_loss: 0.9326 - val_accuracy: 0.8080\n",
            "Epoch 17/20\n",
            "16/16 [==============================] - 0s 21ms/step - loss: 0.1639 - accuracy: 0.9545 - val_loss: 1.0101 - val_accuracy: 0.7880\n",
            "Epoch 18/20\n",
            "16/16 [==============================] - 0s 19ms/step - loss: 0.1523 - accuracy: 0.9558 - val_loss: 0.9161 - val_accuracy: 0.8190\n",
            "Epoch 19/20\n",
            "16/16 [==============================] - 0s 20ms/step - loss: 0.1477 - accuracy: 0.9558 - val_loss: 0.9750 - val_accuracy: 0.8120\n",
            "Epoch 20/20\n",
            "16/16 [==============================] - 0s 18ms/step - loss: 0.1405 - accuracy: 0.9553 - val_loss: 0.9760 - val_accuracy: 0.8080\n"
          ]
        }
      ]
    },
    {
      "cell_type": "markdown",
      "metadata": {
        "id": "xtxo4WFmnxlq"
      },
      "source": [
        "Vamos a ver las curvas de pérdida y precisión:"
      ]
    },
    {
      "cell_type": "code",
      "metadata": {
        "id": "PkGCFJ1-nxlq",
        "colab": {
          "base_uri": "https://localhost:8080/",
          "height": 474
        },
        "outputId": "48c3fff9-97f7-42d7-a821-9719b73275ab"
      },
      "source": [
        "import matplotlib.pyplot as plt\n",
        "\n",
        "loss = history.history['loss']\n",
        "val_loss = history.history['val_loss']\n",
        "\n",
        "epochs = range(1, len(loss) + 1)\n",
        "\n",
        "plt.plot(epochs, loss, 'bo', label='Pérdida del entreno')\n",
        "plt.plot(epochs, val_loss, 'b', label='Pérdida de la validación')\n",
        "plt.title('Perdidas del entreno y la validación')\n",
        "plt.xlabel('Épocas')\n",
        "plt.ylabel('Pérdida')\n",
        "plt.legend()\n",
        "\n",
        "plt.show()"
      ],
      "execution_count": 17,
      "outputs": [
        {
          "output_type": "display_data",
          "data": {
            "text/plain": [
              "<Figure size 640x480 with 1 Axes>"
            ],
            "image/png": "[encoded data removed]"
          },
          "metadata": {}
        }
      ]
    },
    {
      "cell_type": "markdown",
      "source": [
        "Como el mínimo de la función es el 13 aproximadamente, es el número óptimo de épocas."
      ],
      "metadata": {
        "id": "kltjnlvsH84l"
      }
    },
    {
      "cell_type": "code",
      "metadata": {
        "id": "P3dcRt8inxlq",
        "colab": {
          "base_uri": "https://localhost:8080/",
          "height": 474
        },
        "outputId": "9de725ea-fa03-44ae-f8ce-1b86c902224d"
      },
      "source": [
        "plt.clf()   # Limpiamos el gráfico\n",
        "\n",
        "acc = history.history['accuracy']\n",
        "val_acc = history.history['val_accuracy']\n",
        "\n",
        "plt.plot(epochs, acc, 'bo', label='Precisión de entrenamiento')\n",
        "plt.plot(epochs, val_acc, 'b', label='Precisión de validación')\n",
        "plt.title('Precisión de entreno y validación')\n",
        "plt.xlabel('Épocas')\n",
        "plt.ylabel('Precisión')\n",
        "plt.legend()\n",
        "\n",
        "plt.show()"
      ],
      "execution_count": 18,
      "outputs": [
        {
          "output_type": "display_data",
          "data": {
            "text/plain": [
              "<Figure size 640x480 with 1 Axes>"
            ],
            "image/png": "[encoded data removed]"
          },
          "metadata": {}
        }
      ]
    },
    {
      "cell_type": "markdown",
      "metadata": {
        "id": "GPrPZk-xnxlr"
      },
      "source": [
        "Parece que la red comienza a sobreajustarse después de 10 repeticiones (épocas). Entrenemos una nueva red desde cero durante 10 épocas, luego evaluémosla con el conjunto de prueba:"
      ]
    },
    {
      "cell_type": "code",
      "metadata": {
        "id": "mGO6girWnxlr",
        "colab": {
          "base_uri": "https://localhost:8080/"
        },
        "outputId": "f73414fc-7d29-4c6a-e8aa-de2a0f50b793"
      },
      "source": [
        "model = models.Sequential()\n",
        "model.add(layers.Dense(64, activation='relu', input_shape=(10000,)))\n",
        "model.add(layers.Dense(64, activation='relu'))\n",
        "model.add(layers.Dense(46, activation='softmax'))\n",
        "\n",
        "model.compile(optimizer='rmsprop',\n",
        "              loss='categorical_crossentropy',\n",
        "              metrics=['accuracy'])\n",
        "# Entreno con todos los datos durante 10 épocas\n",
        "model.fit(x_train,\n",
        "          one_hot_train_labels,\n",
        "          epochs=10,\n",
        "          batch_size=512)\n",
        "results = model.evaluate(x_test, one_hot_test_labels)"
      ],
      "execution_count": 19,
      "outputs": [
        {
          "output_type": "stream",
          "name": "stdout",
          "text": [
            "Epoch 1/10\n",
            "18/18 [==============================] - 1s 15ms/step - loss: 2.6823 - accuracy: 0.4635\n",
            "Epoch 2/10\n",
            "18/18 [==============================] - 0s 16ms/step - loss: 1.4714 - accuracy: 0.6947\n",
            "Epoch 3/10\n",
            "18/18 [==============================] - 0s 17ms/step - loss: 1.1217 - accuracy: 0.7632\n",
            "Epoch 4/10\n",
            "18/18 [==============================] - 0s 14ms/step - loss: 0.9117 - accuracy: 0.8078\n",
            "Epoch 5/10\n",
            "18/18 [==============================] - 0s 15ms/step - loss: 0.7541 - accuracy: 0.8437\n",
            "Epoch 6/10\n",
            "18/18 [==============================] - 0s 15ms/step - loss: 0.6262 - accuracy: 0.8675\n",
            "Epoch 7/10\n",
            "18/18 [==============================] - 0s 15ms/step - loss: 0.5288 - accuracy: 0.8925\n",
            "Epoch 8/10\n",
            "18/18 [==============================] - 0s 15ms/step - loss: 0.4409 - accuracy: 0.9078\n",
            "Epoch 9/10\n",
            "18/18 [==============================] - 0s 15ms/step - loss: 0.3794 - accuracy: 0.9173\n",
            "Epoch 10/10\n",
            "18/18 [==============================] - 0s 13ms/step - loss: 0.3216 - accuracy: 0.9299\n",
            "71/71 [==============================] - 0s 3ms/step - loss: 0.9209 - accuracy: 0.7867\n"
          ]
        }
      ]
    },
    {
      "cell_type": "code",
      "metadata": {
        "id": "1EG6Oap7nxls",
        "colab": {
          "base_uri": "https://localhost:8080/"
        },
        "outputId": "c29b5100-a9e1-43ed-dce8-3380fa750f65"
      },
      "source": [
        "results"
      ],
      "execution_count": 20,
      "outputs": [
        {
          "output_type": "execute_result",
          "data": {
            "text/plain": [
              "[0.9209473729133606, 0.7867319583892822]"
            ]
          },
          "metadata": {},
          "execution_count": 20
        }
      ]
    },
    {
      "cell_type": "markdown",
      "metadata": {
        "id": "RiPAYJiwnxls"
      },
      "source": [
        "Este enfoque alcanza una precisión de ~ 78%. **Con un problema de clasificación binaria equilibrada, la precisión alcanzada por un clasificador puramente aleatorio sería del 50%**, pero en **nuestro caso** está más **cerca del 19%**, por lo que nuestros **resultados parecen bastante buenos**, al menos **en comparación con una línea de base aleatoria**:"
      ]
    },
    {
      "cell_type": "code",
      "metadata": {
        "id": "LFolLeyfnxls",
        "colab": {
          "base_uri": "https://localhost:8080/"
        },
        "outputId": "65ccf4bb-7132-4cb5-fd3f-38e018aa3868"
      },
      "source": [
        "import copy\n",
        "\n",
        "test_labels_copy = copy.copy(test_labels)\n",
        "np.random.shuffle(test_labels_copy)\n",
        "float(np.sum(np.array(test_labels) == np.array(test_labels_copy))) / len(test_labels)"
      ],
      "execution_count": 21,
      "outputs": [
        {
          "output_type": "execute_result",
          "data": {
            "text/plain": [
              "0.1861086375779163"
            ]
          },
          "metadata": {},
          "execution_count": 21
        }
      ]
    },
    {
      "cell_type": "markdown",
      "metadata": {
        "id": "0riNA9vQnxlt"
      },
      "source": [
        "## Generar predicciones en datos nuevos\n",
        "\n",
        "Podemos verificar que el método `predict` de nuestra instancia del modelo devuelve una distribución de probabilidad sobre los 46 temas. Generemos tema\n",
        "predicciones para todos los datos de prueba:"
      ]
    },
    {
      "cell_type": "code",
      "metadata": {
        "collapsed": true,
        "id": "gOZrZvFmnxlt",
        "outputId": "c38c4598-4768-4fbc-aca2-1043efb629bd",
        "colab": {
          "base_uri": "https://localhost:8080/"
        }
      },
      "source": [
        "predictions = model.predict(x_test)"
      ],
      "execution_count": 22,
      "outputs": [
        {
          "output_type": "stream",
          "name": "stdout",
          "text": [
            "71/71 [==============================] - 0s 2ms/step\n"
          ]
        }
      ]
    },
    {
      "cell_type": "markdown",
      "metadata": {
        "id": "1bL0CtdInxlt"
      },
      "source": [
        "Cada entrada en `predictions` es un vector de longitud 46:"
      ]
    },
    {
      "cell_type": "code",
      "metadata": {
        "id": "tdlqjT_Mnxlt",
        "colab": {
          "base_uri": "https://localhost:8080/"
        },
        "outputId": "cd6551ce-9cb4-4875-eb40-e61ec4de2702"
      },
      "source": [
        "predictions[0].shape"
      ],
      "execution_count": 23,
      "outputs": [
        {
          "output_type": "execute_result",
          "data": {
            "text/plain": [
              "(46,)"
            ]
          },
          "metadata": {},
          "execution_count": 23
        }
      ]
    },
    {
      "cell_type": "markdown",
      "metadata": {
        "id": "x3nDGb7lnxlt"
      },
      "source": [
        "Los coeficientes en este vector suman 1:"
      ]
    },
    {
      "cell_type": "code",
      "metadata": {
        "id": "ha0GKlU7nxlu",
        "colab": {
          "base_uri": "https://localhost:8080/"
        },
        "outputId": "dc36a310-0f36-4f99-839e-d60aef4192cf"
      },
      "source": [
        "np.sum(predictions[0])"
      ],
      "execution_count": 24,
      "outputs": [
        {
          "output_type": "execute_result",
          "data": {
            "text/plain": [
              "1.0000001"
            ]
          },
          "metadata": {},
          "execution_count": 24
        }
      ]
    },
    {
      "cell_type": "markdown",
      "metadata": {
        "id": "zF6lPgbJnxlu"
      },
      "source": [
        "La mayor entrada es la clase predicha, es decir, la clase con la probabilidad más elevada:"
      ]
    },
    {
      "cell_type": "code",
      "metadata": {
        "id": "FkZyZdwdnxlu",
        "colab": {
          "base_uri": "https://localhost:8080/"
        },
        "outputId": "d0040044-8074-4fb9-f31c-f230d8dc091b"
      },
      "source": [
        "np.argmax(predictions[0])"
      ],
      "execution_count": 25,
      "outputs": [
        {
          "output_type": "execute_result",
          "data": {
            "text/plain": [
              "4"
            ]
          },
          "metadata": {},
          "execution_count": 25
        }
      ]
    },
    {
      "cell_type": "markdown",
      "metadata": {
        "id": "y7EzvpvYnxlu"
      },
      "source": [
        "## Una forma diferente de manejar las etiquetas y la pérdida\n",
        "\n",
        "Mencionamos anteriormente que otra forma de codificar las etiquetas sería convertirlas en un tensor entero, como tal:"
      ]
    },
    {
      "cell_type": "code",
      "metadata": {
        "collapsed": true,
        "id": "oSa9FT4qnxlv",
        "outputId": "f6e26e97-d7a6-4dd5-f859-5eb811a43dc8",
        "colab": {
          "base_uri": "https://localhost:8080/"
        }
      },
      "source": [
        "y_train = np.array(train_labels)\n",
        "y_test = np.array(test_labels)\n",
        "print(test_labels)"
      ],
      "execution_count": 26,
      "outputs": [
        {
          "output_type": "stream",
          "name": "stdout",
          "text": [
            "[ 3 10  1 ...  3  3 24]\n"
          ]
        }
      ]
    },
    {
      "cell_type": "markdown",
      "metadata": {
        "id": "-JSB82gnnxlv"
      },
      "source": [
        "Lo único que cambiaría es la **elección de la función de pérdida**. Nuestra pérdida anterior, `categorical_crossentropy`, espera que las etiquetas sigan una codificación categórica. Con etiquetas enteras, deberíamos usar `sparse_categorical_crossentropy`:"
      ]
    },
    {
      "cell_type": "code",
      "metadata": {
        "collapsed": true,
        "id": "j13JZMBInxlv"
      },
      "source": [
        "model.compile(optimizer='rmsprop', loss='sparse_categorical_crossentropy', metrics=['acc'])"
      ],
      "execution_count": 27,
      "outputs": []
    },
    {
      "cell_type": "markdown",
      "metadata": {
        "id": "eY3c2X5Tnxlv"
      },
      "source": [
        "Esta **nueva función de pérdida sigue siendo matemáticamente la misma** que `categorical_crossentropy`; simplemente tiene una **interfaz diferente**."
      ]
    },
    {
      "cell_type": "markdown",
      "metadata": {
        "id": "k5OWwHpEnxlv"
      },
      "source": [
        "## Lo importante de tener capas intermedias lo bastante grandes:\n",
        "\n",
        "Mencionamos anteriormente que dado que nuestras **salidas finales eran de 46 dimensiones**, **deberíamos evitar capas intermedias con mucho menos de 46 unidades ocultas**. Ahora intentemos ver **qué sucede cuando introducimos un cuello de botella de información** al tener capas intermedias significativamente menores que\n",
        "46 dimensiones, p. Ej. 4 dimensiones."
      ]
    },
    {
      "cell_type": "code",
      "metadata": {
        "id": "MfIYddxPnxlw",
        "colab": {
          "base_uri": "https://localhost:8080/"
        },
        "outputId": "91d03094-09c2-46ec-caf9-2d6dd6f916f2"
      },
      "source": [
        "model = models.Sequential()\n",
        "model.add(layers.Dense(64, activation='relu', input_shape=(10000,)))\n",
        "model.add(layers.Dense(4, activation='relu'))\n",
        "model.add(layers.Dense(46, activation='softmax'))\n",
        "\n",
        "model.compile(optimizer='rmsprop',\n",
        "              loss='categorical_crossentropy',\n",
        "              metrics=['accuracy'])\n",
        "model.fit(partial_x_train,\n",
        "          partial_y_train,\n",
        "          epochs=20,\n",
        "          batch_size=128,\n",
        "          validation_data=(x_val, y_val))"
      ],
      "execution_count": 28,
      "outputs": [
        {
          "output_type": "stream",
          "name": "stdout",
          "text": [
            "Epoch 1/20\n",
            "63/63 [==============================] - 2s 14ms/step - loss: 2.6921 - accuracy: 0.3758 - val_loss: 2.0851 - val_accuracy: 0.4790\n",
            "Epoch 2/20\n",
            "63/63 [==============================] - 1s 9ms/step - loss: 1.9122 - accuracy: 0.5147 - val_loss: 1.7546 - val_accuracy: 0.5430\n",
            "Epoch 3/20\n",
            "63/63 [==============================] - 1s 9ms/step - loss: 1.6320 - accuracy: 0.5517 - val_loss: 1.6438 - val_accuracy: 0.5590\n",
            "Epoch 4/20\n",
            "63/63 [==============================] - 1s 9ms/step - loss: 1.4612 - accuracy: 0.5923 - val_loss: 1.5321 - val_accuracy: 0.6060\n",
            "Epoch 5/20\n",
            "63/63 [==============================] - 0s 7ms/step - loss: 1.3312 - accuracy: 0.6383 - val_loss: 1.4760 - val_accuracy: 0.6280\n",
            "Epoch 6/20\n",
            "63/63 [==============================] - 0s 7ms/step - loss: 1.2226 - accuracy: 0.6731 - val_loss: 1.4386 - val_accuracy: 0.6510\n",
            "Epoch 7/20\n",
            "63/63 [==============================] - 0s 7ms/step - loss: 1.1376 - accuracy: 0.7086 - val_loss: 1.4492 - val_accuracy: 0.6500\n",
            "Epoch 8/20\n",
            "63/63 [==============================] - 0s 7ms/step - loss: 1.0709 - accuracy: 0.7285 - val_loss: 1.4516 - val_accuracy: 0.6730\n",
            "Epoch 9/20\n",
            "63/63 [==============================] - 0s 7ms/step - loss: 1.0151 - accuracy: 0.7375 - val_loss: 1.4740 - val_accuracy: 0.6740\n",
            "Epoch 10/20\n",
            "63/63 [==============================] - 0s 8ms/step - loss: 0.9671 - accuracy: 0.7474 - val_loss: 1.4957 - val_accuracy: 0.6720\n",
            "Epoch 11/20\n",
            "63/63 [==============================] - 0s 7ms/step - loss: 0.9246 - accuracy: 0.7524 - val_loss: 1.5129 - val_accuracy: 0.6680\n",
            "Epoch 12/20\n",
            "63/63 [==============================] - 0s 7ms/step - loss: 0.8867 - accuracy: 0.7563 - val_loss: 1.5242 - val_accuracy: 0.6720\n",
            "Epoch 13/20\n",
            "63/63 [==============================] - 0s 7ms/step - loss: 0.8574 - accuracy: 0.7627 - val_loss: 1.5481 - val_accuracy: 0.6740\n",
            "Epoch 14/20\n",
            "63/63 [==============================] - 0s 7ms/step - loss: 0.8293 - accuracy: 0.7667 - val_loss: 1.6058 - val_accuracy: 0.6740\n",
            "Epoch 15/20\n",
            "63/63 [==============================] - 0s 7ms/step - loss: 0.8039 - accuracy: 0.7716 - val_loss: 1.6296 - val_accuracy: 0.6800\n",
            "Epoch 16/20\n",
            "63/63 [==============================] - 0s 8ms/step - loss: 0.7798 - accuracy: 0.7764 - val_loss: 1.7016 - val_accuracy: 0.6780\n",
            "Epoch 17/20\n",
            "63/63 [==============================] - 0s 7ms/step - loss: 0.7587 - accuracy: 0.7805 - val_loss: 1.7104 - val_accuracy: 0.6690\n",
            "Epoch 18/20\n",
            "63/63 [==============================] - 0s 7ms/step - loss: 0.7389 - accuracy: 0.7820 - val_loss: 1.7913 - val_accuracy: 0.6800\n",
            "Epoch 19/20\n",
            "63/63 [==============================] - 0s 7ms/step - loss: 0.7209 - accuracy: 0.7830 - val_loss: 1.7334 - val_accuracy: 0.6800\n",
            "Epoch 20/20\n",
            "63/63 [==============================] - 0s 7ms/step - loss: 0.7068 - accuracy: 0.7880 - val_loss: 1.8180 - val_accuracy: 0.6770\n"
          ]
        },
        {
          "output_type": "execute_result",
          "data": {
            "text/plain": [
              "<keras.src.callbacks.History at 0x7e15ba669000>"
            ]
          },
          "metadata": {},
          "execution_count": 28
        }
      ]
    },
    {
      "cell_type": "markdown",
      "metadata": {
        "id": "yEHDBm4Dnxlw"
      },
      "source": [
        "Ahora la red llega aproximadamente al 71% de exactitud de la validación, **una caída absoluta del 8%**. Esta caída se debe principalmente al hecho de que ahora **estamos tratando de comprimir mucha información (información suficiente para recuperar los hiperplanos de separación de 46 clases) en un espacio intermedio de muy pocas dimensiones**. La red es **capaz de meter la mayor parte de la información necesaria en estas representaciones de 4 dimensiones, pero no toda**."
      ]
    },
    {
      "cell_type": "markdown",
      "metadata": {
        "id": "DAITmJA4nxlw"
      },
      "source": [
        "## Más experimentos\n",
        "\n",
        "* Intenta usar capas más grandes o más pequeñas: 32 unidades, 128 unidades ...\n",
        "* Estábamos usando dos capas ocultas. Ahora intenta crear una sola capa oculta o tres capas ocultas."
      ]
    },
    {
      "cell_type": "code",
      "source": [
        "model = models.Sequential()\n",
        "model.add(layers.Dense(32, activation='relu', input_shape=(10000,)))\n",
        "model.add(layers.Dense(32, activation='relu'))\n",
        "model.add(layers.Dense(32, activation='relu'))\n",
        "model.add(layers.Dense(46, activation='softmax'))\n",
        "\n",
        "model.compile(optimizer='rmsprop',\n",
        "              loss='categorical_crossentropy',\n",
        "              metrics=['accuracy'])\n",
        "model.fit(partial_x_train,\n",
        "          partial_y_train,\n",
        "          epochs=20,\n",
        "          batch_size=128,\n",
        "          validation_data=(x_val, y_val))"
      ],
      "metadata": {
        "id": "9i9GoWqEHEHA",
        "outputId": "38e9bbc1-2d38-4f98-c834-828021053af9",
        "colab": {
          "base_uri": "https://localhost:8080/"
        }
      },
      "execution_count": 41,
      "outputs": [
        {
          "output_type": "stream",
          "name": "stdout",
          "text": [
            "Epoch 1/20\n",
            "63/63 [==============================] - 2s 11ms/step - loss: 2.3934 - accuracy: 0.5278 - val_loss: 1.5107 - val_accuracy: 0.6650\n",
            "Epoch 2/20\n",
            "63/63 [==============================] - 0s 7ms/step - loss: 1.2922 - accuracy: 0.7085 - val_loss: 1.2225 - val_accuracy: 0.7280\n",
            "Epoch 3/20\n",
            "63/63 [==============================] - 1s 9ms/step - loss: 0.9937 - accuracy: 0.7820 - val_loss: 1.1302 - val_accuracy: 0.7580\n",
            "Epoch 4/20\n",
            "63/63 [==============================] - 1s 9ms/step - loss: 0.7749 - accuracy: 0.8294 - val_loss: 1.0146 - val_accuracy: 0.7960\n",
            "Epoch 5/20\n",
            "63/63 [==============================] - 1s 11ms/step - loss: 0.6071 - accuracy: 0.8642 - val_loss: 0.9909 - val_accuracy: 0.8030\n",
            "Epoch 6/20\n",
            "63/63 [==============================] - 1s 10ms/step - loss: 0.4842 - accuracy: 0.8919 - val_loss: 1.0089 - val_accuracy: 0.7940\n",
            "Epoch 7/20\n",
            "63/63 [==============================] - 1s 9ms/step - loss: 0.3915 - accuracy: 0.9129 - val_loss: 1.0493 - val_accuracy: 0.7940\n",
            "Epoch 8/20\n",
            "63/63 [==============================] - 0s 8ms/step - loss: 0.3228 - accuracy: 0.9296 - val_loss: 1.0702 - val_accuracy: 0.7930\n",
            "Epoch 9/20\n",
            "63/63 [==============================] - 0s 8ms/step - loss: 0.2762 - accuracy: 0.9391 - val_loss: 1.1710 - val_accuracy: 0.7770\n",
            "Epoch 10/20\n",
            "63/63 [==============================] - 0s 8ms/step - loss: 0.2414 - accuracy: 0.9455 - val_loss: 1.0951 - val_accuracy: 0.7990\n",
            "Epoch 11/20\n",
            "63/63 [==============================] - 0s 8ms/step - loss: 0.2125 - accuracy: 0.9489 - val_loss: 1.1124 - val_accuracy: 0.7990\n",
            "Epoch 12/20\n",
            "63/63 [==============================] - 0s 8ms/step - loss: 0.1968 - accuracy: 0.9516 - val_loss: 1.1420 - val_accuracy: 0.8000\n",
            "Epoch 13/20\n",
            "63/63 [==============================] - 0s 7ms/step - loss: 0.1762 - accuracy: 0.9544 - val_loss: 1.2061 - val_accuracy: 0.7830\n",
            "Epoch 14/20\n",
            "63/63 [==============================] - 0s 8ms/step - loss: 0.1671 - accuracy: 0.9545 - val_loss: 1.2920 - val_accuracy: 0.7910\n",
            "Epoch 15/20\n",
            "63/63 [==============================] - 0s 7ms/step - loss: 0.1566 - accuracy: 0.9548 - val_loss: 1.3009 - val_accuracy: 0.7790\n",
            "Epoch 16/20\n",
            "63/63 [==============================] - 0s 8ms/step - loss: 0.1505 - accuracy: 0.9555 - val_loss: 1.2132 - val_accuracy: 0.7930\n",
            "Epoch 17/20\n",
            "63/63 [==============================] - 0s 7ms/step - loss: 0.1457 - accuracy: 0.9555 - val_loss: 1.2806 - val_accuracy: 0.7880\n",
            "Epoch 18/20\n",
            "63/63 [==============================] - 0s 7ms/step - loss: 0.1418 - accuracy: 0.9579 - val_loss: 1.3076 - val_accuracy: 0.7890\n",
            "Epoch 19/20\n",
            "63/63 [==============================] - 0s 7ms/step - loss: 0.1379 - accuracy: 0.9570 - val_loss: 1.2723 - val_accuracy: 0.7860\n",
            "Epoch 20/20\n",
            "63/63 [==============================] - 0s 7ms/step - loss: 0.1322 - accuracy: 0.9584 - val_loss: 1.3653 - val_accuracy: 0.7830\n"
          ]
        },
        {
          "output_type": "execute_result",
          "data": {
            "text/plain": [
              "<keras.src.callbacks.History at 0x7e1538e825f0>"
            ]
          },
          "metadata": {},
          "execution_count": 41
        }
      ]
    },
    {
      "cell_type": "code",
      "source": [
        "history = model.fit(partial_x_train,\n",
        "                    partial_y_train,\n",
        "                    epochs=20,\n",
        "                    batch_size=128,\n",
        "                    validation_data=(x_val, y_val))\n",
        "\n",
        "# Acceder a las listas de pérdida y pérdida de validación\n",
        "loss = history.history['loss']\n",
        "val_loss = history.history['val_loss']\n",
        "\n",
        "# Plotear las curvas de pérdida y pérdida de validación\n",
        "epochs = range(1, len(loss) + 1)\n",
        "plt.plot(epochs, loss, 'bo', label='Pérdida de entrenamiento')\n",
        "plt.plot(epochs, val_loss, 'b', label='Pérdida de validación')\n",
        "plt.title('Pérdida de entrenamiento y validación')\n",
        "plt.xlabel('Épocas')\n",
        "plt.ylabel('Pérdida')\n",
        "plt.legend()\n",
        "plt.show()\n",
        "\n",
        "plt.show()"
      ],
      "metadata": {
        "id": "vSsp6QKFJRvk",
        "outputId": "5f9f5382-4cac-450b-ced3-093e508a7d27",
        "colab": {
          "base_uri": "https://localhost:8080/",
          "height": 1000
        }
      },
      "execution_count": 43,
      "outputs": [
        {
          "output_type": "stream",
          "name": "stdout",
          "text": [
            "Epoch 1/20\n",
            "63/63 [==============================] - 1s 8ms/step - loss: 0.1272 - accuracy: 0.9564 - val_loss: 1.3623 - val_accuracy: 0.7820\n",
            "Epoch 2/20\n",
            "63/63 [==============================] - 1s 8ms/step - loss: 0.1233 - accuracy: 0.9587 - val_loss: 1.3603 - val_accuracy: 0.7740\n",
            "Epoch 3/20\n",
            "63/63 [==============================] - 0s 8ms/step - loss: 0.1248 - accuracy: 0.9590 - val_loss: 1.3152 - val_accuracy: 0.7810\n",
            "Epoch 4/20\n",
            "63/63 [==============================] - 0s 8ms/step - loss: 0.1192 - accuracy: 0.9595 - val_loss: 1.4568 - val_accuracy: 0.7820\n",
            "Epoch 5/20\n",
            "63/63 [==============================] - 1s 10ms/step - loss: 0.1132 - accuracy: 0.9589 - val_loss: 1.3973 - val_accuracy: 0.7860\n",
            "Epoch 6/20\n",
            "63/63 [==============================] - 1s 10ms/step - loss: 0.1145 - accuracy: 0.9597 - val_loss: 1.3694 - val_accuracy: 0.7890\n",
            "Epoch 7/20\n",
            "63/63 [==============================] - 1s 10ms/step - loss: 0.1187 - accuracy: 0.9582 - val_loss: 1.3520 - val_accuracy: 0.7840\n",
            "Epoch 8/20\n",
            "63/63 [==============================] - 1s 13ms/step - loss: 0.1150 - accuracy: 0.9593 - val_loss: 1.3661 - val_accuracy: 0.7820\n",
            "Epoch 9/20\n",
            "63/63 [==============================] - 1s 8ms/step - loss: 0.1133 - accuracy: 0.9582 - val_loss: 1.3221 - val_accuracy: 0.7860\n",
            "Epoch 10/20\n",
            "63/63 [==============================] - 0s 8ms/step - loss: 0.1104 - accuracy: 0.9593 - val_loss: 1.3114 - val_accuracy: 0.7830\n",
            "Epoch 11/20\n",
            "63/63 [==============================] - 0s 8ms/step - loss: 0.1103 - accuracy: 0.9573 - val_loss: 1.4580 - val_accuracy: 0.7890\n",
            "Epoch 12/20\n",
            "63/63 [==============================] - 0s 7ms/step - loss: 0.1076 - accuracy: 0.9594 - val_loss: 1.3732 - val_accuracy: 0.7860\n",
            "Epoch 13/20\n",
            "63/63 [==============================] - 0s 8ms/step - loss: 0.1076 - accuracy: 0.9582 - val_loss: 1.4202 - val_accuracy: 0.7770\n",
            "Epoch 14/20\n",
            "63/63 [==============================] - 0s 7ms/step - loss: 0.1065 - accuracy: 0.9569 - val_loss: 1.4298 - val_accuracy: 0.7890\n",
            "Epoch 15/20\n",
            "63/63 [==============================] - 1s 8ms/step - loss: 0.1026 - accuracy: 0.9595 - val_loss: 1.3601 - val_accuracy: 0.7870\n",
            "Epoch 16/20\n",
            "63/63 [==============================] - 0s 7ms/step - loss: 0.1026 - accuracy: 0.9594 - val_loss: 1.3659 - val_accuracy: 0.7780\n",
            "Epoch 17/20\n",
            "63/63 [==============================] - 1s 8ms/step - loss: 0.1034 - accuracy: 0.9567 - val_loss: 1.3829 - val_accuracy: 0.7870\n",
            "Epoch 18/20\n",
            "63/63 [==============================] - 0s 7ms/step - loss: 0.1069 - accuracy: 0.9575 - val_loss: 1.3327 - val_accuracy: 0.7790\n",
            "Epoch 19/20\n",
            "63/63 [==============================] - 0s 8ms/step - loss: 0.1032 - accuracy: 0.9584 - val_loss: 1.4876 - val_accuracy: 0.7690\n",
            "Epoch 20/20\n",
            "63/63 [==============================] - 0s 7ms/step - loss: 0.1039 - accuracy: 0.9569 - val_loss: 1.4137 - val_accuracy: 0.7850\n"
          ]
        },
        {
          "output_type": "display_data",
          "data": {
            "text/plain": [
              "<Figure size 640x480 with 1 Axes>"
            ],
            "image/png": "[encoded data removed]"
          },
          "metadata": {}
        }
      ]
    },
    {
      "cell_type": "markdown",
      "source": [
        "Usando 32 unidades en las dos primeras capas y 46 en la última (dado que el vector de salida debe ser de dimensión 46) vemos que la precisión que alcanza es de 0.95 con muy poca pérdida. En la validación se obtiene un resultado de val loss = 1 y val acc = 0.8, lo cual no está mal, pero teniendo una precisión tan alta en el entrenamiento es baja. Al usar 128 se llega a una precisión de 0.96  y una pérdida de 0.1, en los datos de validación se obtienen muy buenos resultados aunque no superan al entrenamiento, lo cual es bueno, no está sobre entrenado (val loss = 0.97 y val acc = 0.81).\n",
        "\n",
        "Usando una sola capa oculta la precisión y la pérdida no cambian, es decir sigue en 0.95 y 1 pero los datos de validación alcanzan solo 0.8 de precisión. Con 3 capas ocultas los datos de entrenamiento apenas varían, pero los de validación bajan.\n",
        "\n",
        "En la gráfica podemos comprobar los distintos casos, el último (el que aparece) es el de 3 capas ocultas, aunque todas las gráficas salían similares, con mucha distancia entre los datos de entrenamiento y los de validación."
      ],
      "metadata": {
        "id": "kxwqcbSuHZeq"
      }
    },
    {
      "cell_type": "markdown",
      "metadata": {
        "id": "f3RF6XMlnxlx"
      },
      "source": [
        "## Resumen\n",
        "\n",
        "Esto es lo que debéis sacar de este ejemplo:\n",
        "\n",
        "* Si estáis **intentando clasificar puntos de datos entre N clases, vuestra red debería terminar con una capa `Dense` de tamaño N**.\n",
        "* En un problema de **clasificación de una sola etiqueta asignada y varias clases**, la red debe **terminar con una activación tipo \"softmax\"**, de modo que genere un distribución de probabilidad sobre las N clases de salida.\n",
        "* **`categorical_crossentropy` es casi siempre la función de pérdida que debe usar para estos problemas**. Minimiza la distancia entre las distribuciones de probabilidad producidas por la red y la verdadera distribución de los objetivos.\n",
        "* Hay **dos formas de manejar etiquetas en clasificación multiclase**:\n",
        "  - Codificar las etiquetas a través de \"codificación categórica\" ​​(también conocida como **\"codificación one-hot\"**) y **usar `categorical_crossentropy` como su función de pérdida**.\n",
        "  - Codificando las **etiquetas como números enteros** y usando la **función de pérdida `sparse_categorical_crossentropy`**.\n",
        "* Si necesitamos **clasificar datos en una gran cantidad de categorías**, debemos **evitar crear cuellos de botella de información** en la red al tener capas intermedias que son demasiado pequeñas."
      ]
    },
    {
      "cell_type": "markdown",
      "metadata": {
        "id": "-F0O6iSjQHWq"
      },
      "source": [
        "---"
      ]
    }
  ]
}