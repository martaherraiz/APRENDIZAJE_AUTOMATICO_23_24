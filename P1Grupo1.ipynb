{
  "nbformat": 4,
  "nbformat_minor": 0,
  "metadata": {
    "colab": {
      "provenance": [],
      "include_colab_link": true
    },
    "kernelspec": {
      "name": "python3",
      "display_name": "Python 3"
    },
    "language_info": {
      "name": "python"
    },
    "accelerator": "TPU"
  },
  "cells": [
    {
      "cell_type": "markdown",
      "metadata": {
        "id": "view-in-github",
        "colab_type": "text"
      },
      "source": [
        "<a href=\"https://colab.research.google.com/github/martaherraiz/APRENDIZAJE_AUTOMATICO_23_24/blob/main/P1Grupo1.ipynb\" target=\"_parent\"><img src=\"https://colab.research.google.com/assets/colab-badge.svg\" alt=\"Open In Colab\"/></a>"
      ]
    },
    {
      "cell_type": "markdown",
      "source": [
        "**P1 AA Configuración y Entrenamiento de una Red de Neuronas_23_24**\n",
        "\n",
        "\n"
      ],
      "metadata": {
        "id": "DecBA5sy2Muq"
      }
    },
    {
      "cell_type": "markdown",
      "source": [
        "Grupo 1\n",
        "\n",
        "Carmen Gallardo Martín, Marta Herraiz Méndez, Pablo Mendieta Ruiz\n",
        "\n",
        "**ENUNCIADO:**\n",
        "Crea un modelo de Red de Neuronas Artificiales que sea capaz de reconocer y clasificar\n",
        "imágenes de ropa en sus diferentes tipologías. Este modelo será definido, configurado,\n",
        "entrenado, evaluado y mejorado para posteriormente usarlo para hacer predicciones.\n"
      ],
      "metadata": {
        "id": "iv6oQvdt2zHw"
      }
    },
    {
      "cell_type": "code",
      "source": [
        "# Importamos todas las librerias necesarias\n",
        "\n",
        "import tensorflow as tf\n",
        "from tensorflow import keras\n",
        "import numpy as np\n",
        "\n",
        "from keras.datasets import fashion_mnist\n",
        "\n",
        "import matplotlib.pyplot as plt\n",
        "\n",
        "from keras import models\n",
        "from keras import layers\n",
        "\n",
        "import tensorflow as tf\n",
        "from tensorflow import keras\n",
        "from tensorflow.keras import layers\n",
        "\n",
        "from keras.utils.np_utils import to_categorical\n",
        "\n",
        "def crear_Network (NneuronasCapa1, funcionActivacion, Optimizador):\n",
        "    network = models.Sequential()\n",
        "\n",
        "\n",
        "    network.add(layers.Dense(NneuronasCapa1, activation=funcionActivacion, input_shape=(28*28,)))\n",
        "\n",
        "    network.add(layers.Dense(10, activation='softmax'))\n",
        "\n",
        "\n",
        "    network.summary()\n",
        "\n",
        "    keras.utils.plot_model(network, \"my_first_model.png\", show_shapes=True)\n",
        "\n",
        "    # OPTIMIZADOR, LA FUNCIÓN DE PÉRDIDA Y LAS MÉTRICAS\n",
        "    network.compile(optimizer=Optimizador, loss='categorical_crossentropy',\n",
        "                    metrics=['accuracy'])\n",
        "\n",
        "    return network\n",
        "\n",
        "\n",
        "\n",
        "\n",
        "def entrenar(network):\n",
        "  network.fit(train_images, train_labels, epochs=5, batch_size=128)\n",
        "  return network\n",
        "\n",
        "# 8.- VERIFICAMOS NUESTRO MODELO YA ENTRENADO, CONTRA EL CONJUNTO DE PRUEBAS\n",
        "\n",
        "def evaluar(network):\n",
        "  test_loss, test_acc = network.evaluate(test_images, test_labels)\n",
        "  print('', test_loss)\n",
        "  print('', test_acc)\n",
        "  return"
      ],
      "metadata": {
        "id": "jZNOIWuk2uAm"
      },
      "execution_count": 15,
      "outputs": []
    },
    {
      "cell_type": "code",
      "source": [
        "#Pre-procesado de datos\n",
        "\n",
        "(train_images, train_labels), (test_images, test_labels) = fashion_mnist.load_data()\n",
        "\n",
        "print(train_images.shape)\n",
        "print(test_images.shape)\n",
        "\n",
        "#Vemos la matriz de la imagen número 30.000 (28x28)\n",
        "np.set_printoptions(precision=2, suppress=True, linewidth=145)\n",
        "print(np.matrix(train_images[30000]))\n",
        "# Vemos que la imagen número 30.000 corresponde al número 3(dress)\n",
        "train_labels[30000]\n",
        "# Veamos el elemento 30000 y pintémoslo con matplotlib\n",
        "\n",
        "digit = train_images[30000]\n",
        "plt.imshow(digit, cmap=plt.cm.binary)\n",
        "plt.show()\n"
      ],
      "metadata": {
        "colab": {
          "base_uri": "https://localhost:8080/",
          "height": 1000
        },
        "id": "dGMIRM4phbIw",
        "outputId": "dcec742a-f6bb-41c4-bd44-901d730ed863"
      },
      "execution_count": 2,
      "outputs": [
        {
          "output_type": "stream",
          "name": "stdout",
          "text": [
            "Downloading data from https://storage.googleapis.com/tensorflow/tf-keras-datasets/train-labels-idx1-ubyte.gz\n",
            "29515/29515 [==============================] - 0s 0us/step\n",
            "Downloading data from https://storage.googleapis.com/tensorflow/tf-keras-datasets/train-images-idx3-ubyte.gz\n",
            "26421880/26421880 [==============================] - 1s 0us/step\n",
            "Downloading data from https://storage.googleapis.com/tensorflow/tf-keras-datasets/t10k-labels-idx1-ubyte.gz\n",
            "5148/5148 [==============================] - 0s 0us/step\n",
            "Downloading data from https://storage.googleapis.com/tensorflow/tf-keras-datasets/t10k-images-idx3-ubyte.gz\n",
            "4422102/4422102 [==============================] - 0s 0us/step\n",
            "(60000, 28, 28)\n",
            "(10000, 28, 28)\n",
            "[[  0   0   0   0   0   0   0   0   0   0 118 204 181 175 213 199 168 197 111   0   0   0   0   0   0   0   0   0]\n",
            " [  0   0   0   0   0   0   0   0   0   0 173 225 185 179 225 158 142 227 173   0   0   0   0   0   0   0   0   0]\n",
            " [  0   0   0   0   0   0   0   0   0   0 170 229 226 226 233 151 167 234 158   0   0   0   0   0   0   0   0   0]\n",
            " [  0   0   0   0   0   0   0   0   0   0 194 222 212 226 222 240 218 230 163   0   0   0   0   0   0   0   0   0]\n",
            " [  0   0   0   0   0   0   0   0   0   0 198 222 210 207 211 207 208 231 147   0   0   0   0   0   0   0   0   0]\n",
            " [  0   0   0   0   0   0   0   0   0   0 188 220 209 210 211 215 208 230 144   0   1   0   0   0   0   0   0   0]\n",
            " [  0   0   0   0   0   0   0   0   0   0 183 232 214 220 212 220 213 239 158   0   1   0   0   0   0   0   0   0]\n",
            " [  0   0   0   0   0   0   0   0   0   0 183 232 217 216 215 219 216 238 160   0   1   0   0   0   0   0   0   0]\n",
            " [  0   0   0   0   0   0   0   0   0   0 185 231 218 221 215 218 214 238 170   0   1   0   0   0   0   0   0   0]\n",
            " [  0   0   0   0   0   0   0   0   0   0 188 233 215 220 219 219 216 238 169   0   2   0   0   0   0   0   0   0]\n",
            " [  0   0   0   0   0   0   0   0   0   0 169 240 219 221 222 228 214 243 114   0   1   0   0   0   0   0   0   0]\n",
            " [  0   0   0   0   0   0   0   0   0   0 128 255 214 218 206 205 225 233  53   0   0   0   0   0   0   0   0   0]\n",
            " [  0   0   0   0   0   0   0   0   0   0 200 229 218 221 219 211 217 228 204   0   0   0   0   0   0   0   0   0]\n",
            " [  0   0   0   0   0   0   0   0   0  34 230 214 217 216 218 218 220 217 231  42   0   0   0   0   0   0   0   0]\n",
            " [  0   0   0   0   0   0   0   0   0  94 236 213 219 219 218 215 219 213 234 110   0   0   0   0   0   0   0   0]\n",
            " [  0   0   0   0   0   0   0   0   0 167 234 212 218 218 219 212 225 215 231 170   0   0   0   0   0   0   0   0]\n",
            " [  0   0   0   0   0   0   0   0   0 200 230 213 216 218 221 211 224 214 228 213   0   0   0   0   0   0   0   0]\n",
            " [  0   0   0   0   0   0   0   0   0 192 228 213 216 218 222 213 224 215 221 200   0   0   0   0   0   0   0   0]\n",
            " [  0   0   0   0   0   0   0   0   0 202 225 216 214 219 215 219 225 215 219 208   0   0   0   0   0   0   0   0]\n",
            " [  0   0   0   0   0   0   0   0   0 215 224 214 215 221 213 217 220 215 216 216   0   0   0   0   0   0   0   0]\n",
            " [  0   0   0   0   0   0   0   0  26 232 214 218 213 226 212 216 225 215 211 224  27   0   0   0   0   0   0   0]\n",
            " [  0   0   0   0   0   0   0   0  59 234 214 220 214 225 211 213 227 216 212 228  51   0   0   0   0   0   0   0]\n",
            " [  0   0   0   0   0   0   0   0  67 233 214 221 213 227 209 215 228 216 211 228  56   0   0   0   0   0   0   0]\n",
            " [  0   0   0   0   0   0   0   0  92 234 215 219 215 226 208 214 227 215 211 225  42   0   0   0   0   0   0   0]\n",
            " [  0   0   0   0   0   0   0   0 116 236 215 218 211 230 213 212 229 215 211 228  64   0   0   0   0   0   0   0]\n",
            " [  0   0   0   0   0   0   0   0 140 231 218 221 221 236 204 219 224 221 219 227 132   0   0   0   0   0   0   0]\n",
            " [  0   0   0   0   0   0   0   0 107 200 193 205 194 217 213 218 248 202 172 227 105   0   0   0   0   0   0   0]\n",
            " [  0   0   0   0   0   0   0   0   0  21 108 142 146 125 173 141  94 152 154  89   0   0   0   0   0   0   0   0]]\n"
          ]
        },
        {
          "output_type": "display_data",
          "data": {
            "text/plain": [
              "<Figure size 640x480 with 1 Axes>"
            ],
            "image/png": "[encoded data removed]"
          },
          "metadata": {}
        }
      ]
    },
    {
      "cell_type": "markdown",
      "source": [
        "**CONSTRUIMOS LA RNA**"
      ],
      "metadata": {
        "id": "t076TS_miScB"
      }
    },
    {
      "cell_type": "code",
      "source": [
        "# 3.- CONSTRUIMOS LA ARQUITECTURA DE LA RED\n",
        "red1 = crear_Network (10,'relu','sgd')\n",
        "\n"
      ],
      "metadata": {
        "colab": {
          "base_uri": "https://localhost:8080/"
        },
        "id": "nKLt-Ww1iRy1",
        "outputId": "c0401908-8265-4d59-8400-4aca4210067e"
      },
      "execution_count": 8,
      "outputs": [
        {
          "output_type": "stream",
          "name": "stdout",
          "text": [
            "Model: \"sequential_2\"\n",
            "_________________________________________________________________\n",
            " Layer (type)                Output Shape              Param #   \n",
            "=================================================================\n",
            " dense_2 (Dense)             (None, 10)                7850      \n",
            "                                                                 \n",
            " dense_3 (Dense)             (None, 10)                110       \n",
            "                                                                 \n",
            "=================================================================\n",
            "Total params: 7,960\n",
            "Trainable params: 7,960\n",
            "Non-trainable params: 0\n",
            "_________________________________________________________________\n"
          ]
        }
      ]
    },
    {
      "cell_type": "code",
      "source": [
        "# 5.- PREPARAMOS LOS DATOS DE IMAGEN CON ALGUNA TRANSFORMACIÓN. NORMALIZACION\n",
        "# Los tensores transformados tienen la misma cantidad de datos total que el\n",
        "# tensor inicial\n",
        "train_images = train_images.reshape((60000, 28 * 28))\n",
        "\n",
        "\n",
        "test_images = test_images.reshape((10000, 28 * 28))\n",
        "\n",
        "\n",
        "print(train_images)\n",
        "print(len(train_images))\n",
        "print(train_images.shape)\n",
        "np.set_printoptions(precision=2, suppress=True, linewidth=145)\n",
        "print(np.matrix(train_images[3000]))\n",
        "\n"
      ],
      "metadata": {
        "colab": {
          "base_uri": "https://localhost:8080/"
        },
        "id": "GqsrYA5gj3vj",
        "outputId": "a3594e0f-c8b3-4f24-95e2-7eb1b8b092f5"
      },
      "execution_count": 4,
      "outputs": [
        {
          "output_type": "stream",
          "name": "stdout",
          "text": [
            "[[0 0 0 ... 0 0 0]\n",
            " [0 0 0 ... 0 0 0]\n",
            " [0 0 0 ... 0 0 0]\n",
            " ...\n",
            " [0 0 0 ... 0 0 0]\n",
            " [0 0 0 ... 0 0 0]\n",
            " [0 0 0 ... 0 0 0]]\n",
            "60000\n",
            "(60000, 784)\n",
            "[[  0   0   0   0   0   0   0   0   1   1   0   0 120 131  91 147  30   0   0   1   1   0   0   0   0   0   0   0   0   0   0   0   0   0   1\n",
            "    3   0   0   0   0 251 199 172 195 152   0   0   0   0   3   1   0   0   0   0   0   0   0   0   0   0   0   0   0   0  43 124 193 166 239\n",
            "  255 216 172 228 126  61   0   0   0   0   0   0   0   0   0   0   0   0   0   0   0  96 167 155 159 171 178 211 215 210 196 189 158 164 159\n",
            "  108   0   0   0   0   0   0   0   0   0   0   0   0  83 157 131 117 120 148 148 145 178 159 174 160 123 132 142 172  38   0   0   0   0   0\n",
            "    0   0   0   0   0   0 159 128 118 120 122 112  93 124 161 109 128 128 129 146 138 167 122   0   0   0   0   0   0   0   0   0   0   0 171\n",
            "  135 120 114 118 119 107 125 123 117 124 124 119 145 147 166 148   0   0   0   0   0   0   0   0   0   0   4 171 138 126 120 117 118 102 122\n",
            "  145 111 120 122 120 152 154 155 170   0   0   0   0   0   0   0   0   0   0  31 170 129 138 125 113 106 103 118 137 108 135 130 158 182 138\n",
            "  143 186   0   0   0   0   0   0   0   0   0   0  58 163 114 137 143 119 103 100 109 118 109 129 134 172 181 131 136 190   0   0   0   0   0\n",
            "    0   0   0   0   0  76 160 113 141 148 128 111 101 116 137 111 131 142 167 183 136 120 186  12   0   0   0   0   0   0   0   0   0 100 148\n",
            "  108 147 147 134 120 105 116 131 116 136 137 165 192 137 113 187  30   0   0   0   0   0   0   0   0   0 114 143 108 158 147 130 125 106 114\n",
            "  122 119 129 134 160 196 136 109 182  51   0   0   0   0   0   0   0   0   0 120 140 117 151 148 131 124 109 120 143 120 130 128 159 188 111\n",
            "  108 178  66   0   0   0   0   0   0   0   0   0 125 129 128 112 145 140 122 113 118 134 117 132 128 166 157  91 120 170  74   0   0   0   0\n",
            "    0   0   0   0   0 126 123 138  74 140 143 124 111 112 126 120 130 129 175 120  88 128 164  91   0   0   0   0   0   0   0   0   0 124 123\n",
            "  157  45 145 143 124 113 119 148 122 131 129 183  90  73 137 155  99   0   0   0   0   0   0   0   0   0 118 122 167   0 143 149 122 112 118\n",
            "  137 116 132 126 183  73  50 152 147 101   0   0   0   0   0   0   0   0   0 111 128 164   0 142 151 122 111 117 132 120 136 125 182  90  18\n",
            "  164 145 107   0   0   0   0   0   0   0   0   0 109 132 158   0 146 148 120 108 125 157 120 136 131 176 111   0 164 143 118   0   0   0   0\n",
            "    0   0   0   0   0 111 141 140   0 148 149 120 114 123 137 124 137 131 171 135   0 157 147 125   0   0   0   0   0   0   0   0   0 111 154\n",
            "  111   0 155 148 118 116 124 143 123 131 129 167 155   0 129 157 129   0   0   0   0   0   0   0   0   0 109 155  87   0 157 145 119 117 126\n",
            "  154 126 130 123 161 160   0  97 163 130   0   0   0   0   0   0   0   0   0 124 142  54   0 149 141 119 119 124 136 129 126 120 153 175   0\n",
            "   76 145 137   0   0   0   0   0   0   0   0   0 136 151  47   0 149 137 119 118 126 143 132 130 123 153 172   0  66 148 154   0   0   0   0\n",
            "    0   0   0   0   0 109 174  48   0 154 138 119 117 124 138 130 129 125 159 167   0  58 174 128   0   0   0   0   0   0   0   0   0   0   0\n",
            "    0   0  85 182 147 136 143 158 146 148 153 199  70   0   0   0   0   0   0   0   0   0   0   0   0   0   0   0   0   0   0  26  54  72  83\n",
            "   96  85  80  61  14   0   0   0   0   0   0   0   0   0]]\n"
          ]
        }
      ]
    },
    {
      "cell_type": "code",
      "source": [
        "# 6.- PREPARACIÓN LAS ETIQUETAS\n",
        "# from keras import utils\n",
        "# from keras.utils import to_categorical\n",
        "\n",
        "\n",
        "train_labels = to_categorical(train_labels)\n",
        "test_labels = to_categorical(test_labels)\n",
        "train_labels[30000] # Posición 0 a 9 donde solo la 3 tiene probabilidad 1.\n",
        "# la imagen 30000 de entrenamiento es 3 (dress)"
      ],
      "metadata": {
        "colab": {
          "base_uri": "https://localhost:8080/"
        },
        "id": "DLa8YITmkTTc",
        "outputId": "c7dd601a-f061-4496-9d26-983570be9e45"
      },
      "execution_count": 5,
      "outputs": [
        {
          "output_type": "execute_result",
          "data": {
            "text/plain": [
              "array([0., 0., 0., 1., 0., 0., 0., 0., 0., 0.], dtype=float32)"
            ]
          },
          "metadata": {},
          "execution_count": 5
        }
      ]
    },
    {
      "cell_type": "code",
      "source": [
        "train_images = train_images.astype('float32') / 255\n",
        "train_images, len(train_images), train_images.shape, train_images[3000]\n"
      ],
      "metadata": {
        "colab": {
          "base_uri": "https://localhost:8080/"
        },
        "id": "zopHA3UikGe4",
        "outputId": "3131f8db-fc02-49a2-e8a6-2471d9671e31"
      },
      "execution_count": 6,
      "outputs": [
        {
          "output_type": "execute_result",
          "data": {
            "text/plain": [
              "(array([[0., 0., 0., ..., 0., 0., 0.],\n",
              "        [0., 0., 0., ..., 0., 0., 0.],\n",
              "        [0., 0., 0., ..., 0., 0., 0.],\n",
              "        ...,\n",
              "        [0., 0., 0., ..., 0., 0., 0.],\n",
              "        [0., 0., 0., ..., 0., 0., 0.],\n",
              "        [0., 0., 0., ..., 0., 0., 0.]], dtype=float32),\n",
              " 60000,\n",
              " (60000, 784),\n",
              " array([0.  , 0.  , 0.  , 0.  , 0.  , 0.  , 0.  , 0.  , 0.  , 0.  , 0.  , 0.  , 0.47, 0.51, 0.36, 0.58, 0.12, 0.  , 0.  , 0.  , 0.  , 0.  , 0.  ,\n",
              "        0.  , 0.  , 0.  , 0.  , 0.  , 0.  , 0.  , 0.  , 0.  , 0.  , 0.  , 0.  , 0.01, 0.  , 0.  , 0.  , 0.  , 0.98, 0.78, 0.67, 0.76, 0.6 , 0.  ,\n",
              "        0.  , 0.  , 0.  , 0.01, 0.  , 0.  , 0.  , 0.  , 0.  , 0.  , 0.  , 0.  , 0.  , 0.  , 0.  , 0.  , 0.  , 0.  , 0.  , 0.17, 0.49, 0.76, 0.65,\n",
              "        0.94, 1.  , 0.85, 0.67, 0.89, 0.49, 0.24, 0.  , 0.  , 0.  , 0.  , 0.  , 0.  , 0.  , 0.  , 0.  , 0.  , 0.  , 0.  , 0.  , 0.  , 0.  , 0.38,\n",
              "        0.65, 0.61, 0.62, 0.67, 0.7 , 0.83, 0.84, 0.82, 0.77, 0.74, 0.62, 0.64, 0.62, 0.42, 0.  , 0.  , 0.  , 0.  , 0.  , 0.  , 0.  , 0.  , 0.  ,\n",
              "        0.  , 0.  , 0.  , 0.33, 0.62, 0.51, 0.46, 0.47, 0.58, 0.58, 0.57, 0.7 , 0.62, 0.68, 0.63, 0.48, 0.52, 0.56, 0.67, 0.15, 0.  , 0.  , 0.  ,\n",
              "        0.  , 0.  , 0.  , 0.  , 0.  , 0.  , 0.  , 0.  , 0.62, 0.5 , 0.46, 0.47, 0.48, 0.44, 0.36, 0.49, 0.63, 0.43, 0.5 , 0.5 , 0.51, 0.57, 0.54,\n",
              "        0.65, 0.48, 0.  , 0.  , 0.  , 0.  , 0.  , 0.  , 0.  , 0.  , 0.  , 0.  , 0.  , 0.67, 0.53, 0.47, 0.45, 0.46, 0.47, 0.42, 0.49, 0.48, 0.46,\n",
              "        0.49, 0.49, 0.47, 0.57, 0.58, 0.65, 0.58, 0.  , 0.  , 0.  , 0.  , 0.  , 0.  , 0.  , 0.  , 0.  , 0.  , 0.02, 0.67, 0.54, 0.49, 0.47, 0.46,\n",
              "        0.46, 0.4 , 0.48, 0.57, 0.44, 0.47, 0.48, 0.47, 0.6 , 0.6 , 0.61, 0.67, 0.  , 0.  , 0.  , 0.  , 0.  , 0.  , 0.  , 0.  , 0.  , 0.  , 0.12,\n",
              "        0.67, 0.51, 0.54, 0.49, 0.44, 0.42, 0.4 , 0.46, 0.54, 0.42, 0.53, 0.51, 0.62, 0.71, 0.54, 0.56, 0.73, 0.  , 0.  , 0.  , 0.  , 0.  , 0.  ,\n",
              "        0.  , 0.  , 0.  , 0.  , 0.23, 0.64, 0.45, 0.54, 0.56, 0.47, 0.4 , 0.39, 0.43, 0.46, 0.43, 0.51, 0.53, 0.67, 0.71, 0.51, 0.53, 0.75, 0.  ,\n",
              "        0.  , 0.  , 0.  , 0.  , 0.  , 0.  , 0.  , 0.  , 0.  , 0.3 , 0.63, 0.44, 0.55, 0.58, 0.5 , 0.44, 0.4 , 0.45, 0.54, 0.44, 0.51, 0.56, 0.65,\n",
              "        0.72, 0.53, 0.47, 0.73, 0.05, 0.  , 0.  , 0.  , 0.  , 0.  , 0.  , 0.  , 0.  , 0.  , 0.39, 0.58, 0.42, 0.58, 0.58, 0.53, 0.47, 0.41, 0.45,\n",
              "        0.51, 0.45, 0.53, 0.54, 0.65, 0.75, 0.54, 0.44, 0.73, 0.12, 0.  , 0.  , 0.  , 0.  , 0.  , 0.  , 0.  , 0.  , 0.  , 0.45, 0.56, 0.42, 0.62,\n",
              "        0.58, 0.51, 0.49, 0.42, 0.45, 0.48, 0.47, 0.51, 0.53, 0.63, 0.77, 0.53, 0.43, 0.71, 0.2 , 0.  , 0.  , 0.  , 0.  , 0.  , 0.  , 0.  , 0.  ,\n",
              "        0.  , 0.47, 0.55, 0.46, 0.59, 0.58, 0.51, 0.49, 0.43, 0.47, 0.56, 0.47, 0.51, 0.5 , 0.62, 0.74, 0.44, 0.42, 0.7 , 0.26, 0.  , 0.  , 0.  ,\n",
              "        0.  , 0.  , 0.  , 0.  , 0.  , 0.  , 0.49, 0.51, 0.5 , 0.44, 0.57, 0.55, 0.48, 0.44, 0.46, 0.53, 0.46, 0.52, 0.5 , 0.65, 0.62, 0.36, 0.47,\n",
              "        0.67, 0.29, 0.  , 0.  , 0.  , 0.  , 0.  , 0.  , 0.  , 0.  , 0.  , 0.49, 0.48, 0.54, 0.29, 0.55, 0.56, 0.49, 0.44, 0.44, 0.49, 0.47, 0.51,\n",
              "        0.51, 0.69, 0.47, 0.35, 0.5 , 0.64, 0.36, 0.  , 0.  , 0.  , 0.  , 0.  , 0.  , 0.  , 0.  , 0.  , 0.49, 0.48, 0.62, 0.18, 0.57, 0.56, 0.49,\n",
              "        0.44, 0.47, 0.58, 0.48, 0.51, 0.51, 0.72, 0.35, 0.29, 0.54, 0.61, 0.39, 0.  , 0.  , 0.  , 0.  , 0.  , 0.  , 0.  , 0.  , 0.  , 0.46, 0.48,\n",
              "        0.65, 0.  , 0.56, 0.58, 0.48, 0.44, 0.46, 0.54, 0.45, 0.52, 0.49, 0.72, 0.29, 0.2 , 0.6 , 0.58, 0.4 , 0.  , 0.  , 0.  , 0.  , 0.  , 0.  ,\n",
              "        0.  , 0.  , 0.  , 0.44, 0.5 , 0.64, 0.  , 0.56, 0.59, 0.48, 0.44, 0.46, 0.52, 0.47, 0.53, 0.49, 0.71, 0.35, 0.07, 0.64, 0.57, 0.42, 0.  ,\n",
              "        0.  , 0.  , 0.  , 0.  , 0.  , 0.  , 0.  , 0.  , 0.43, 0.52, 0.62, 0.  , 0.57, 0.58, 0.47, 0.42, 0.49, 0.62, 0.47, 0.53, 0.51, 0.69, 0.44,\n",
              "        0.  , 0.64, 0.56, 0.46, 0.  , 0.  , 0.  , 0.  , 0.  , 0.  , 0.  , 0.  , 0.  , 0.44, 0.55, 0.55, 0.  , 0.58, 0.58, 0.47, 0.45, 0.48, 0.54,\n",
              "        0.49, 0.54, 0.51, 0.67, 0.53, 0.  , 0.62, 0.58, 0.49, 0.  , 0.  , 0.  , 0.  , 0.  , 0.  , 0.  , 0.  , 0.  , 0.44, 0.6 , 0.44, 0.  , 0.61,\n",
              "        0.58, 0.46, 0.45, 0.49, 0.56, 0.48, 0.51, 0.51, 0.65, 0.61, 0.  , 0.51, 0.62, 0.51, 0.  , 0.  , 0.  , 0.  , 0.  , 0.  , 0.  , 0.  , 0.  ,\n",
              "        0.43, 0.61, 0.34, 0.  , 0.62, 0.57, 0.47, 0.46, 0.49, 0.6 , 0.49, 0.51, 0.48, 0.63, 0.63, 0.  , 0.38, 0.64, 0.51, 0.  , 0.  , 0.  , 0.  ,\n",
              "        0.  , 0.  , 0.  , 0.  , 0.  , 0.49, 0.56, 0.21, 0.  , 0.58, 0.55, 0.47, 0.47, 0.49, 0.53, 0.51, 0.49, 0.47, 0.6 , 0.69, 0.  , 0.3 , 0.57,\n",
              "        0.54, 0.  , 0.  , 0.  , 0.  , 0.  , 0.  , 0.  , 0.  , 0.  , 0.53, 0.59, 0.18, 0.  , 0.58, 0.54, 0.47, 0.46, 0.49, 0.56, 0.52, 0.51, 0.48,\n",
              "        0.6 , 0.67, 0.  , 0.26, 0.58, 0.6 , 0.  , 0.  , 0.  , 0.  , 0.  , 0.  , 0.  , 0.  , 0.  , 0.43, 0.68, 0.19, 0.  , 0.6 , 0.54, 0.47, 0.46,\n",
              "        0.49, 0.54, 0.51, 0.51, 0.49, 0.62, 0.65, 0.  , 0.23, 0.68, 0.5 , 0.  , 0.  , 0.  , 0.  , 0.  , 0.  , 0.  , 0.  , 0.  , 0.  , 0.  , 0.  ,\n",
              "        0.  , 0.33, 0.71, 0.58, 0.53, 0.56, 0.62, 0.57, 0.58, 0.6 , 0.78, 0.27, 0.  , 0.  , 0.  , 0.  , 0.  , 0.  , 0.  , 0.  , 0.  , 0.  , 0.  ,\n",
              "        0.  , 0.  , 0.  , 0.  , 0.  , 0.  , 0.  , 0.1 , 0.21, 0.28, 0.33, 0.38, 0.33, 0.31, 0.24, 0.05, 0.  , 0.  , 0.  , 0.  , 0.  , 0.  , 0.  ,\n",
              "        0.  , 0.  ], dtype=float32))"
            ]
          },
          "metadata": {},
          "execution_count": 6
        }
      ]
    },
    {
      "cell_type": "code",
      "source": [
        "def switch_case(option):\n",
        "    # Define las diferentes opciones\n",
        "    if option == 1:\n",
        "        network1 = crear_Network (10, 'relu', 'sgd')\n",
        "        entrenar(network1)\n",
        "        evaluar(network1)\n",
        "\n",
        "    elif option == 2:\n",
        "          network2 = crear_Network (10, 'relu', 'rmsprop')\n",
        "          entrenar(network2)\n",
        "          evaluar(network2)\n",
        "\n",
        "    elif option == 3:\n",
        "          network3 = crear_Network (10, 'sigmoid', 'sgd')\n",
        "          entrenar(network3)\n",
        "          evaluar(network3)\n",
        "\n",
        "    elif option == 4:\n",
        "          network4 = crear_Network (10, 'sigmoid', 'rmsprop')\n",
        "          entrenar(network4)\n",
        "          evaluar(network4)\n",
        "\n",
        "    elif option == 5:\n",
        "          network5 = crear_Network (512, 'relu', 'sgd')\n",
        "          entrenar(network5)\n",
        "          evaluar(network5)\n",
        "\n",
        "    elif option == 6:\n",
        "          network6 = crear_Network (512, 'relu', 'rmsprop')\n",
        "          entrenar(network6)\n",
        "          evaluar(network6)\n",
        "\n",
        "\n",
        "    elif option == 7:\n",
        "          network7 = crear_Network (512, 'sigmoid', 'sgd')\n",
        "          entrenar(network7)\n",
        "          evaluar(network7)\n",
        "\n",
        "\n",
        "    elif option == 8:\n",
        "          network8 = crear_Network (512, 'sigmoid', 'rmsprop')\n",
        "          entrenar(network8)\n",
        "          evaluar(network8)\n",
        "\n",
        "\n",
        "    else:\n",
        "        print(\"Opción no válida\")\n",
        "\n",
        "for i in range(8):\n",
        "  option = i\n",
        "  print('caso {i}')\n",
        "  switch_case(option)\n",
        "  i = i + 1\n",
        "\n"
      ],
      "metadata": {
        "colab": {
          "base_uri": "https://localhost:8080/"
        },
        "id": "bKgWVVMio9-1",
        "outputId": "94dc43da-e47f-410f-852a-fb7c8f6fc8bd"
      },
      "execution_count": 18,
      "outputs": [
        {
          "output_type": "stream",
          "name": "stdout",
          "text": [
            "caso %d 0\n",
            "Opción no válida\n",
            "caso %d 1\n",
            "Model: \"sequential_11\"\n",
            "_________________________________________________________________\n",
            " Layer (type)                Output Shape              Param #   \n",
            "=================================================================\n",
            " dense_14 (Dense)            (None, 10)                7850      \n",
            "                                                                 \n",
            " dense_15 (Dense)            (None, 10)                110       \n",
            "                                                                 \n",
            "=================================================================\n",
            "Total params: 7,960\n",
            "Trainable params: 7,960\n",
            "Non-trainable params: 0\n",
            "_________________________________________________________________\n",
            "Epoch 1/5\n",
            "469/469 [==============================] - 2s 4ms/step - loss: 1.3462 - accuracy: 0.5513\n",
            "Epoch 2/5\n",
            "469/469 [==============================] - 2s 4ms/step - loss: 0.8083 - accuracy: 0.7184\n",
            "Epoch 3/5\n",
            "469/469 [==============================] - 2s 5ms/step - loss: 0.7032 - accuracy: 0.7513\n",
            "Epoch 4/5\n",
            "469/469 [==============================] - 2s 5ms/step - loss: 0.6469 - accuracy: 0.7728\n",
            "Epoch 5/5\n",
            "469/469 [==============================] - 1s 3ms/step - loss: 0.6092 - accuracy: 0.7894\n",
            "313/313 [==============================] - 1s 2ms/step - loss: 72.3482 - accuracy: 0.7608\n",
            " 72.34815979003906\n",
            " 0.7608000040054321\n",
            "caso %d 2\n",
            "Model: \"sequential_12\"\n",
            "_________________________________________________________________\n",
            " Layer (type)                Output Shape              Param #   \n",
            "=================================================================\n",
            " dense_16 (Dense)            (None, 10)                7850      \n",
            "                                                                 \n",
            " dense_17 (Dense)            (None, 10)                110       \n",
            "                                                                 \n",
            "=================================================================\n",
            "Total params: 7,960\n",
            "Trainable params: 7,960\n",
            "Non-trainable params: 0\n",
            "_________________________________________________________________\n",
            "Epoch 1/5\n",
            "469/469 [==============================] - 2s 3ms/step - loss: 0.8420 - accuracy: 0.7229\n",
            "Epoch 2/5\n",
            "469/469 [==============================] - 1s 3ms/step - loss: 0.5403 - accuracy: 0.8181\n",
            "Epoch 3/5\n",
            "469/469 [==============================] - 1s 3ms/step - loss: 0.4897 - accuracy: 0.8325\n",
            "Epoch 4/5\n",
            "469/469 [==============================] - 1s 3ms/step - loss: 0.4656 - accuracy: 0.8399\n",
            "Epoch 5/5\n",
            "469/469 [==============================] - 2s 4ms/step - loss: 0.4496 - accuracy: 0.8457\n",
            "313/313 [==============================] - 1s 3ms/step - loss: 98.9548 - accuracy: 0.7802\n",
            " 98.95478820800781\n",
            " 0.7802000045776367\n",
            "caso %d 3\n",
            "Model: \"sequential_13\"\n",
            "_________________________________________________________________\n",
            " Layer (type)                Output Shape              Param #   \n",
            "=================================================================\n",
            " dense_18 (Dense)            (None, 10)                7850      \n",
            "                                                                 \n",
            " dense_19 (Dense)            (None, 10)                110       \n",
            "                                                                 \n",
            "=================================================================\n",
            "Total params: 7,960\n",
            "Trainable params: 7,960\n",
            "Non-trainable params: 0\n",
            "_________________________________________________________________\n",
            "Epoch 1/5\n",
            "469/469 [==============================] - 3s 5ms/step - loss: 2.1083 - accuracy: 0.3244\n",
            "Epoch 2/5\n",
            "469/469 [==============================] - 2s 4ms/step - loss: 1.7946 - accuracy: 0.5255\n",
            "Epoch 3/5\n",
            "469/469 [==============================] - 1s 3ms/step - loss: 1.5831 - accuracy: 0.5689\n",
            "Epoch 4/5\n",
            "469/469 [==============================] - 1s 3ms/step - loss: 1.4289 - accuracy: 0.6269\n",
            "Epoch 5/5\n",
            "469/469 [==============================] - 1s 3ms/step - loss: 1.3133 - accuracy: 0.6429\n",
            "313/313 [==============================] - 1s 2ms/step - loss: 1.1997 - accuracy: 0.5860\n",
            " 1.199733018875122\n",
            " 0.5860000252723694\n",
            "caso %d 4\n",
            "Model: \"sequential_14\"\n",
            "_________________________________________________________________\n",
            " Layer (type)                Output Shape              Param #   \n",
            "=================================================================\n",
            " dense_20 (Dense)            (None, 10)                7850      \n",
            "                                                                 \n",
            " dense_21 (Dense)            (None, 10)                110       \n",
            "                                                                 \n",
            "=================================================================\n",
            "Total params: 7,960\n",
            "Trainable params: 7,960\n",
            "Non-trainable params: 0\n",
            "_________________________________________________________________\n",
            "Epoch 1/5\n",
            "469/469 [==============================] - 3s 5ms/step - loss: 1.4132 - accuracy: 0.6346\n",
            "Epoch 2/5\n",
            "469/469 [==============================] - 2s 5ms/step - loss: 0.8396 - accuracy: 0.7741\n",
            "Epoch 3/5\n",
            "469/469 [==============================] - 2s 4ms/step - loss: 0.6471 - accuracy: 0.8086\n",
            "Epoch 4/5\n",
            "469/469 [==============================] - 2s 4ms/step - loss: 0.5553 - accuracy: 0.8259\n",
            "Epoch 5/5\n",
            "469/469 [==============================] - 3s 7ms/step - loss: 0.5045 - accuracy: 0.8365\n",
            "313/313 [==============================] - 2s 4ms/step - loss: 0.6073 - accuracy: 0.7961\n",
            " 0.6072965264320374\n",
            " 0.7961000204086304\n",
            "caso %d 5\n",
            "Model: \"sequential_15\"\n",
            "_________________________________________________________________\n",
            " Layer (type)                Output Shape              Param #   \n",
            "=================================================================\n",
            " dense_22 (Dense)            (None, 512)               401920    \n",
            "                                                                 \n",
            " dense_23 (Dense)            (None, 10)                5130      \n",
            "                                                                 \n",
            "=================================================================\n",
            "Total params: 407,050\n",
            "Trainable params: 407,050\n",
            "Non-trainable params: 0\n",
            "_________________________________________________________________\n",
            "Epoch 1/5\n",
            "469/469 [==============================] - 9s 19ms/step - loss: 1.0109 - accuracy: 0.6949\n",
            "Epoch 2/5\n",
            "469/469 [==============================] - 6s 13ms/step - loss: 0.6568 - accuracy: 0.7895\n",
            "Epoch 3/5\n",
            "469/469 [==============================] - 4s 9ms/step - loss: 0.5792 - accuracy: 0.8122\n",
            "Epoch 4/5\n",
            "469/469 [==============================] - 5s 10ms/step - loss: 0.5372 - accuracy: 0.8223\n",
            "Epoch 5/5\n",
            "469/469 [==============================] - 10s 21ms/step - loss: 0.5112 - accuracy: 0.8291\n",
            "313/313 [==============================] - 1s 4ms/step - loss: 63.8557 - accuracy: 0.8021\n",
            " 63.855674743652344\n",
            " 0.8021000027656555\n",
            "caso %d 6\n",
            "Model: \"sequential_16\"\n",
            "_________________________________________________________________\n",
            " Layer (type)                Output Shape              Param #   \n",
            "=================================================================\n",
            " dense_24 (Dense)            (None, 512)               401920    \n",
            "                                                                 \n",
            " dense_25 (Dense)            (None, 10)                5130      \n",
            "                                                                 \n",
            "=================================================================\n",
            "Total params: 407,050\n",
            "Trainable params: 407,050\n",
            "Non-trainable params: 0\n",
            "_________________________________________________________________\n",
            "Epoch 1/5\n",
            "469/469 [==============================] - 6s 12ms/step - loss: 0.5603 - accuracy: 0.8029\n",
            "Epoch 2/5\n",
            "469/469 [==============================] - 8s 18ms/step - loss: 0.3859 - accuracy: 0.8579\n",
            "Epoch 3/5\n",
            "469/469 [==============================] - 5s 11ms/step - loss: 0.3402 - accuracy: 0.8748\n",
            "Epoch 4/5\n",
            "469/469 [==============================] - 6s 12ms/step - loss: 0.3138 - accuracy: 0.8844\n",
            "Epoch 5/5\n",
            "469/469 [==============================] - 8s 17ms/step - loss: 0.2936 - accuracy: 0.8913\n",
            "313/313 [==============================] - 1s 3ms/step - loss: 65.4913 - accuracy: 0.8432\n",
            " 65.4913330078125\n",
            " 0.8432000279426575\n",
            "caso %d 7\n",
            "Model: \"sequential_17\"\n",
            "_________________________________________________________________\n",
            " Layer (type)                Output Shape              Param #   \n",
            "=================================================================\n",
            " dense_26 (Dense)            (None, 512)               401920    \n",
            "                                                                 \n",
            " dense_27 (Dense)            (None, 10)                5130      \n",
            "                                                                 \n",
            "=================================================================\n",
            "Total params: 407,050\n",
            "Trainable params: 407,050\n",
            "Non-trainable params: 0\n",
            "_________________________________________________________________\n",
            "Epoch 1/5\n",
            "469/469 [==============================] - 5s 10ms/step - loss: 1.6888 - accuracy: 0.5907\n",
            "Epoch 2/5\n",
            "469/469 [==============================] - 6s 12ms/step - loss: 1.1246 - accuracy: 0.7100\n",
            "Epoch 3/5\n",
            "469/469 [==============================] - 6s 13ms/step - loss: 0.9240 - accuracy: 0.7319\n",
            "Epoch 4/5\n",
            "469/469 [==============================] - 4s 9ms/step - loss: 0.8237 - accuracy: 0.7442\n",
            "Epoch 5/5\n",
            "469/469 [==============================] - 4s 9ms/step - loss: 0.7631 - accuracy: 0.7531\n",
            "313/313 [==============================] - 2s 5ms/step - loss: 1.6134 - accuracy: 0.6605\n",
            " 1.6134099960327148\n",
            " 0.6604999899864197\n"
          ]
        }
      ]
    },
    {
      "cell_type": "markdown",
      "source": [
        "6. Utilice el siguiente código para graficar cómo de bien o de mal se comporta el\n",
        "modelo para cada uno de los 8 casos"
      ],
      "metadata": {
        "id": "bcAsyXCXfOlb"
      }
    },
    {
      "cell_type": "code",
      "execution_count": null,
      "metadata": {
        "id": "Ir1FDBYx0XZz",
        "colab": {
          "base_uri": "https://localhost:8080/",
          "height": 143
        },
        "outputId": "a4d4d2ca-cd14-450e-ddef-d7d4ffe531af"
      },
      "outputs": [
        {
          "output_type": "error",
          "ename": "SyntaxError",
          "evalue": "ignored",
          "traceback": [
            "\u001b[0;36m  File \u001b[0;32m\"<ipython-input-9-1c7a7c0c84ea>\"\u001b[0;36m, line \u001b[0;32m13\u001b[0m\n\u001b[0;31m    plt.xlabel(\"{} {:2.0f}% ({})\".format(class_names[predicted_label]\u001b[0m\n\u001b[0m                                         ^\u001b[0m\n\u001b[0;31mSyntaxError\u001b[0m\u001b[0;31m:\u001b[0m invalid syntax. Perhaps you forgot a comma?\n"
          ]
        }
      ],
      "source": [
        "def plot_image(i, predictions_array, true_label, img):\n",
        "  pedictions_array, true_label, img = predictions_array, true_label[i], img[i]\n",
        "  plt.grid(False)\n",
        "  plt.xticks([])\n",
        "  plt.ytickts([])\n",
        "\n",
        "  plt.imshow(img, camp=plt.cm.binary)\n",
        "  if predicted_label == true_label :\n",
        "    color = 'blue'\n",
        "  else :\n",
        "    color = 'red'\n",
        "\n",
        "  plt.xlabel(\"{} {:2.0f}% ({})\".format(class_names[predicted_label]\n",
        "                                     100*np.max(predictions_array)\n",
        "                                     class_names[true_label])\n",
        "                                     color = color)\n",
        "\n",
        "def plot_value_array(i, predictions_array, true_label):\n",
        "  predictions_array, true_label = predictions_array, true_label[i]\n",
        "  plt.grid(False)\n",
        "  plt.xticks(range(10))\n",
        "  plt.yticks([])\n",
        "  thisplot = plt.bar(range(10), predictions_array, color = \"#777777\")\n",
        "  plt.ylim([0 1])\n",
        "  predicted_label = np.argmax(predictions_array)\n",
        "\n",
        "  thisplot[predicted_label].set_color('red')\n",
        "  thisplot[true_label].setcolor('blue')\n",
        "\n"
      ]
    },
    {
      "cell_type": "markdown",
      "source": [
        "Ejemplo de uso para ver la predicción de la 6ª figura de las imágenes de test."
      ],
      "metadata": {
        "id": "E8a4Iv4HfqGi"
      }
    },
    {
      "cell_type": "code",
      "source": [
        "i = 0\n",
        "plt.figure(figsize = (6,3))\n",
        "plt.subplot(1,2,1)\n",
        "plot_image(i, predictions[i], test_labels, test_images)\n",
        "plot.subplot(1,2,2)\n",
        "plotvalue_array(i,predictions[i], test_labales)\n",
        "plt.show()\n"
      ],
      "metadata": {
        "colab": {
          "base_uri": "https://localhost:8080/",
          "height": 251
        },
        "id": "MsK84BxAflsO",
        "outputId": "1a96f722-ef81-4210-8068-02826718e5aa"
      },
      "execution_count": null,
      "outputs": [
        {
          "output_type": "error",
          "ename": "NameError",
          "evalue": "ignored",
          "traceback": [
            "\u001b[0;31m---------------------------------------------------------------------------\u001b[0m",
            "\u001b[0;31mNameError\u001b[0m                                 Traceback (most recent call last)",
            "\u001b[0;32m<ipython-input-3-4efd40ca0fb8>\u001b[0m in \u001b[0;36m<cell line: 2>\u001b[0;34m()\u001b[0m\n\u001b[1;32m      1\u001b[0m \u001b[0mi\u001b[0m \u001b[0;34m=\u001b[0m \u001b[0;36m0\u001b[0m\u001b[0;34m\u001b[0m\u001b[0;34m\u001b[0m\u001b[0m\n\u001b[0;32m----> 2\u001b[0;31m \u001b[0mplt\u001b[0m\u001b[0;34m.\u001b[0m\u001b[0mfigure\u001b[0m\u001b[0;34m(\u001b[0m\u001b[0mfigsize\u001b[0m \u001b[0;34m=\u001b[0m \u001b[0;34m(\u001b[0m\u001b[0;36m6\u001b[0m\u001b[0;34m,\u001b[0m\u001b[0;36m3\u001b[0m\u001b[0;34m)\u001b[0m\u001b[0;34m)\u001b[0m\u001b[0;34m\u001b[0m\u001b[0;34m\u001b[0m\u001b[0m\n\u001b[0m\u001b[1;32m      3\u001b[0m \u001b[0mplt\u001b[0m\u001b[0;34m.\u001b[0m\u001b[0msubplot\u001b[0m\u001b[0;34m(\u001b[0m\u001b[0;36m1\u001b[0m\u001b[0;34m,\u001b[0m\u001b[0;36m2\u001b[0m\u001b[0;34m,\u001b[0m\u001b[0;36m1\u001b[0m\u001b[0;34m)\u001b[0m\u001b[0;34m\u001b[0m\u001b[0;34m\u001b[0m\u001b[0m\n\u001b[1;32m      4\u001b[0m \u001b[0mplot_image\u001b[0m\u001b[0;34m(\u001b[0m\u001b[0mi\u001b[0m\u001b[0;34m,\u001b[0m \u001b[0mpredictions\u001b[0m\u001b[0;34m[\u001b[0m\u001b[0mi\u001b[0m\u001b[0;34m]\u001b[0m\u001b[0;34m,\u001b[0m \u001b[0mtest_labels\u001b[0m\u001b[0;34m,\u001b[0m \u001b[0mtest_images\u001b[0m\u001b[0;34m)\u001b[0m\u001b[0;34m\u001b[0m\u001b[0;34m\u001b[0m\u001b[0m\n\u001b[1;32m      5\u001b[0m \u001b[0mplot\u001b[0m\u001b[0;34m.\u001b[0m\u001b[0msubplot\u001b[0m\u001b[0;34m(\u001b[0m\u001b[0;36m1\u001b[0m\u001b[0;34m,\u001b[0m\u001b[0;36m2\u001b[0m\u001b[0;34m,\u001b[0m\u001b[0;36m2\u001b[0m\u001b[0;34m)\u001b[0m\u001b[0;34m\u001b[0m\u001b[0;34m\u001b[0m\u001b[0m\n",
            "\u001b[0;31mNameError\u001b[0m: name 'plt' is not defined"
          ]
        }
      ]
    }
  ]
}